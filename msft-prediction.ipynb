{
  "nbformat": 4,
  "nbformat_minor": 0,
  "metadata": {
    "colab": {
      "provenance": [],
      "authorship_tag": "ABX9TyNSElnwzLhS1YmSBSiw8MRe",
      "include_colab_link": true
    },
    "kernelspec": {
      "name": "python3",
      "display_name": "Python 3"
    },
    "language_info": {
      "name": "python"
    }
  },
  "cells": [
    {
      "cell_type": "markdown",
      "metadata": {
        "id": "view-in-github",
        "colab_type": "text"
      },
      "source": [
        "<a href=\"https://colab.research.google.com/github/DavisRayM/msft-stock-prediction/blob/main/msft-prediction.ipynb\" target=\"_parent\"><img src=\"https://colab.research.google.com/assets/colab-badge.svg\" alt=\"Open In Colab\"/></a>"
      ]
    },
    {
      "cell_type": "markdown",
      "source": [
        "# Assignment 4"
      ],
      "metadata": {
        "id": "3VAv_0rZBSJI"
      }
    },
    {
      "cell_type": "markdown",
      "source": [
        "Author: Davis Muro\n",
        "\n",
        "For CPSC 5610\n",
        "\n",
        "Microsoft Stock Prediction"
      ],
      "metadata": {
        "id": "9oRwhV28BWFP"
      }
    },
    {
      "cell_type": "code",
      "source": [
        "import tensorflow as tf\n",
        "import pandas as pd\n",
        "import numpy as np\n",
        "import matplotlib.pyplot as plt"
      ],
      "metadata": {
        "id": "LvDyQuH2BvdB"
      },
      "execution_count": 1,
      "outputs": []
    },
    {
      "cell_type": "code",
      "source": [
        "np.random.seed(25)\n",
        "tf.random.set_seed(25)"
      ],
      "metadata": {
        "id": "UDwf3pkmGrUX"
      },
      "execution_count": 2,
      "outputs": []
    },
    {
      "cell_type": "code",
      "source": [
        "df = pd.read_csv('data/MSFT.csv')\n",
        "df.head(5)"
      ],
      "metadata": {
        "colab": {
          "base_uri": "https://localhost:8080/",
          "height": 206
        },
        "id": "-jQ0kmQeB6HZ",
        "outputId": "bb5a2551-8297-40ba-f4ab-24116d17ec00"
      },
      "execution_count": 3,
      "outputs": [
        {
          "output_type": "execute_result",
          "data": {
            "text/plain": [
              "         Date       Open       High        Low      Close  Adj Close    Volume\n",
              "0   11/7/2016  59.779999  60.520000  59.779999  60.419998  55.902321  31664800\n",
              "1   11/8/2016  60.549999  60.779999  60.150002  60.470001  55.948589  22935400\n",
              "2   11/9/2016  60.000000  60.590000  59.200001  60.169998  55.671009  49632500\n",
              "3  11/10/2016  60.480000  60.490002  57.630001  58.700001  54.310928  57822400\n",
              "4  11/11/2016  58.230000  59.119999  58.009998  59.020000  54.607002  38767800"
            ],
            "text/html": [
              "\n",
              "  <div id=\"df-eedf730a-3293-4436-9e64-8e90f48f05f2\" class=\"colab-df-container\">\n",
              "    <div>\n",
              "<style scoped>\n",
              "    .dataframe tbody tr th:only-of-type {\n",
              "        vertical-align: middle;\n",
              "    }\n",
              "\n",
              "    .dataframe tbody tr th {\n",
              "        vertical-align: top;\n",
              "    }\n",
              "\n",
              "    .dataframe thead th {\n",
              "        text-align: right;\n",
              "    }\n",
              "</style>\n",
              "<table border=\"1\" class=\"dataframe\">\n",
              "  <thead>\n",
              "    <tr style=\"text-align: right;\">\n",
              "      <th></th>\n",
              "      <th>Date</th>\n",
              "      <th>Open</th>\n",
              "      <th>High</th>\n",
              "      <th>Low</th>\n",
              "      <th>Close</th>\n",
              "      <th>Adj Close</th>\n",
              "      <th>Volume</th>\n",
              "    </tr>\n",
              "  </thead>\n",
              "  <tbody>\n",
              "    <tr>\n",
              "      <th>0</th>\n",
              "      <td>11/7/2016</td>\n",
              "      <td>59.779999</td>\n",
              "      <td>60.520000</td>\n",
              "      <td>59.779999</td>\n",
              "      <td>60.419998</td>\n",
              "      <td>55.902321</td>\n",
              "      <td>31664800</td>\n",
              "    </tr>\n",
              "    <tr>\n",
              "      <th>1</th>\n",
              "      <td>11/8/2016</td>\n",
              "      <td>60.549999</td>\n",
              "      <td>60.779999</td>\n",
              "      <td>60.150002</td>\n",
              "      <td>60.470001</td>\n",
              "      <td>55.948589</td>\n",
              "      <td>22935400</td>\n",
              "    </tr>\n",
              "    <tr>\n",
              "      <th>2</th>\n",
              "      <td>11/9/2016</td>\n",
              "      <td>60.000000</td>\n",
              "      <td>60.590000</td>\n",
              "      <td>59.200001</td>\n",
              "      <td>60.169998</td>\n",
              "      <td>55.671009</td>\n",
              "      <td>49632500</td>\n",
              "    </tr>\n",
              "    <tr>\n",
              "      <th>3</th>\n",
              "      <td>11/10/2016</td>\n",
              "      <td>60.480000</td>\n",
              "      <td>60.490002</td>\n",
              "      <td>57.630001</td>\n",
              "      <td>58.700001</td>\n",
              "      <td>54.310928</td>\n",
              "      <td>57822400</td>\n",
              "    </tr>\n",
              "    <tr>\n",
              "      <th>4</th>\n",
              "      <td>11/11/2016</td>\n",
              "      <td>58.230000</td>\n",
              "      <td>59.119999</td>\n",
              "      <td>58.009998</td>\n",
              "      <td>59.020000</td>\n",
              "      <td>54.607002</td>\n",
              "      <td>38767800</td>\n",
              "    </tr>\n",
              "  </tbody>\n",
              "</table>\n",
              "</div>\n",
              "    <div class=\"colab-df-buttons\">\n",
              "\n",
              "  <div class=\"colab-df-container\">\n",
              "    <button class=\"colab-df-convert\" onclick=\"convertToInteractive('df-eedf730a-3293-4436-9e64-8e90f48f05f2')\"\n",
              "            title=\"Convert this dataframe to an interactive table.\"\n",
              "            style=\"display:none;\">\n",
              "\n",
              "  <svg xmlns=\"http://www.w3.org/2000/svg\" height=\"24px\" viewBox=\"0 -960 960 960\">\n",
              "    <path d=\"M120-120v-720h720v720H120Zm60-500h600v-160H180v160Zm220 220h160v-160H400v160Zm0 220h160v-160H400v160ZM180-400h160v-160H180v160Zm440 0h160v-160H620v160ZM180-180h160v-160H180v160Zm440 0h160v-160H620v160Z\"/>\n",
              "  </svg>\n",
              "    </button>\n",
              "\n",
              "  <style>\n",
              "    .colab-df-container {\n",
              "      display:flex;\n",
              "      gap: 12px;\n",
              "    }\n",
              "\n",
              "    .colab-df-convert {\n",
              "      background-color: #E8F0FE;\n",
              "      border: none;\n",
              "      border-radius: 50%;\n",
              "      cursor: pointer;\n",
              "      display: none;\n",
              "      fill: #1967D2;\n",
              "      height: 32px;\n",
              "      padding: 0 0 0 0;\n",
              "      width: 32px;\n",
              "    }\n",
              "\n",
              "    .colab-df-convert:hover {\n",
              "      background-color: #E2EBFA;\n",
              "      box-shadow: 0px 1px 2px rgba(60, 64, 67, 0.3), 0px 1px 3px 1px rgba(60, 64, 67, 0.15);\n",
              "      fill: #174EA6;\n",
              "    }\n",
              "\n",
              "    .colab-df-buttons div {\n",
              "      margin-bottom: 4px;\n",
              "    }\n",
              "\n",
              "    [theme=dark] .colab-df-convert {\n",
              "      background-color: #3B4455;\n",
              "      fill: #D2E3FC;\n",
              "    }\n",
              "\n",
              "    [theme=dark] .colab-df-convert:hover {\n",
              "      background-color: #434B5C;\n",
              "      box-shadow: 0px 1px 3px 1px rgba(0, 0, 0, 0.15);\n",
              "      filter: drop-shadow(0px 1px 2px rgba(0, 0, 0, 0.3));\n",
              "      fill: #FFFFFF;\n",
              "    }\n",
              "  </style>\n",
              "\n",
              "    <script>\n",
              "      const buttonEl =\n",
              "        document.querySelector('#df-eedf730a-3293-4436-9e64-8e90f48f05f2 button.colab-df-convert');\n",
              "      buttonEl.style.display =\n",
              "        google.colab.kernel.accessAllowed ? 'block' : 'none';\n",
              "\n",
              "      async function convertToInteractive(key) {\n",
              "        const element = document.querySelector('#df-eedf730a-3293-4436-9e64-8e90f48f05f2');\n",
              "        const dataTable =\n",
              "          await google.colab.kernel.invokeFunction('convertToInteractive',\n",
              "                                                    [key], {});\n",
              "        if (!dataTable) return;\n",
              "\n",
              "        const docLinkHtml = 'Like what you see? Visit the ' +\n",
              "          '<a target=\"_blank\" href=https://colab.research.google.com/notebooks/data_table.ipynb>data table notebook</a>'\n",
              "          + ' to learn more about interactive tables.';\n",
              "        element.innerHTML = '';\n",
              "        dataTable['output_type'] = 'display_data';\n",
              "        await google.colab.output.renderOutput(dataTable, element);\n",
              "        const docLink = document.createElement('div');\n",
              "        docLink.innerHTML = docLinkHtml;\n",
              "        element.appendChild(docLink);\n",
              "      }\n",
              "    </script>\n",
              "  </div>\n",
              "\n",
              "\n",
              "    <div id=\"df-ce740dd7-bf18-4f5b-8413-886b95f0631d\">\n",
              "      <button class=\"colab-df-quickchart\" onclick=\"quickchart('df-ce740dd7-bf18-4f5b-8413-886b95f0631d')\"\n",
              "                title=\"Suggest charts\"\n",
              "                style=\"display:none;\">\n",
              "\n",
              "<svg xmlns=\"http://www.w3.org/2000/svg\" height=\"24px\"viewBox=\"0 0 24 24\"\n",
              "     width=\"24px\">\n",
              "    <g>\n",
              "        <path d=\"M19 3H5c-1.1 0-2 .9-2 2v14c0 1.1.9 2 2 2h14c1.1 0 2-.9 2-2V5c0-1.1-.9-2-2-2zM9 17H7v-7h2v7zm4 0h-2V7h2v10zm4 0h-2v-4h2v4z\"/>\n",
              "    </g>\n",
              "</svg>\n",
              "      </button>\n",
              "\n",
              "<style>\n",
              "  .colab-df-quickchart {\n",
              "      --bg-color: #E8F0FE;\n",
              "      --fill-color: #1967D2;\n",
              "      --hover-bg-color: #E2EBFA;\n",
              "      --hover-fill-color: #174EA6;\n",
              "      --disabled-fill-color: #AAA;\n",
              "      --disabled-bg-color: #DDD;\n",
              "  }\n",
              "\n",
              "  [theme=dark] .colab-df-quickchart {\n",
              "      --bg-color: #3B4455;\n",
              "      --fill-color: #D2E3FC;\n",
              "      --hover-bg-color: #434B5C;\n",
              "      --hover-fill-color: #FFFFFF;\n",
              "      --disabled-bg-color: #3B4455;\n",
              "      --disabled-fill-color: #666;\n",
              "  }\n",
              "\n",
              "  .colab-df-quickchart {\n",
              "    background-color: var(--bg-color);\n",
              "    border: none;\n",
              "    border-radius: 50%;\n",
              "    cursor: pointer;\n",
              "    display: none;\n",
              "    fill: var(--fill-color);\n",
              "    height: 32px;\n",
              "    padding: 0;\n",
              "    width: 32px;\n",
              "  }\n",
              "\n",
              "  .colab-df-quickchart:hover {\n",
              "    background-color: var(--hover-bg-color);\n",
              "    box-shadow: 0 1px 2px rgba(60, 64, 67, 0.3), 0 1px 3px 1px rgba(60, 64, 67, 0.15);\n",
              "    fill: var(--button-hover-fill-color);\n",
              "  }\n",
              "\n",
              "  .colab-df-quickchart-complete:disabled,\n",
              "  .colab-df-quickchart-complete:disabled:hover {\n",
              "    background-color: var(--disabled-bg-color);\n",
              "    fill: var(--disabled-fill-color);\n",
              "    box-shadow: none;\n",
              "  }\n",
              "\n",
              "  .colab-df-spinner {\n",
              "    border: 2px solid var(--fill-color);\n",
              "    border-color: transparent;\n",
              "    border-bottom-color: var(--fill-color);\n",
              "    animation:\n",
              "      spin 1s steps(1) infinite;\n",
              "  }\n",
              "\n",
              "  @keyframes spin {\n",
              "    0% {\n",
              "      border-color: transparent;\n",
              "      border-bottom-color: var(--fill-color);\n",
              "      border-left-color: var(--fill-color);\n",
              "    }\n",
              "    20% {\n",
              "      border-color: transparent;\n",
              "      border-left-color: var(--fill-color);\n",
              "      border-top-color: var(--fill-color);\n",
              "    }\n",
              "    30% {\n",
              "      border-color: transparent;\n",
              "      border-left-color: var(--fill-color);\n",
              "      border-top-color: var(--fill-color);\n",
              "      border-right-color: var(--fill-color);\n",
              "    }\n",
              "    40% {\n",
              "      border-color: transparent;\n",
              "      border-right-color: var(--fill-color);\n",
              "      border-top-color: var(--fill-color);\n",
              "    }\n",
              "    60% {\n",
              "      border-color: transparent;\n",
              "      border-right-color: var(--fill-color);\n",
              "    }\n",
              "    80% {\n",
              "      border-color: transparent;\n",
              "      border-right-color: var(--fill-color);\n",
              "      border-bottom-color: var(--fill-color);\n",
              "    }\n",
              "    90% {\n",
              "      border-color: transparent;\n",
              "      border-bottom-color: var(--fill-color);\n",
              "    }\n",
              "  }\n",
              "</style>\n",
              "\n",
              "      <script>\n",
              "        async function quickchart(key) {\n",
              "          const quickchartButtonEl =\n",
              "            document.querySelector('#' + key + ' button');\n",
              "          quickchartButtonEl.disabled = true;  // To prevent multiple clicks.\n",
              "          quickchartButtonEl.classList.add('colab-df-spinner');\n",
              "          try {\n",
              "            const charts = await google.colab.kernel.invokeFunction(\n",
              "                'suggestCharts', [key], {});\n",
              "          } catch (error) {\n",
              "            console.error('Error during call to suggestCharts:', error);\n",
              "          }\n",
              "          quickchartButtonEl.classList.remove('colab-df-spinner');\n",
              "          quickchartButtonEl.classList.add('colab-df-quickchart-complete');\n",
              "        }\n",
              "        (() => {\n",
              "          let quickchartButtonEl =\n",
              "            document.querySelector('#df-ce740dd7-bf18-4f5b-8413-886b95f0631d button');\n",
              "          quickchartButtonEl.style.display =\n",
              "            google.colab.kernel.accessAllowed ? 'block' : 'none';\n",
              "        })();\n",
              "      </script>\n",
              "    </div>\n",
              "\n",
              "    </div>\n",
              "  </div>\n"
            ],
            "application/vnd.google.colaboratory.intrinsic+json": {
              "type": "dataframe",
              "variable_name": "df",
              "summary": "{\n  \"name\": \"df\",\n  \"rows\": 1259,\n  \"fields\": [\n    {\n      \"column\": \"Date\",\n      \"properties\": {\n        \"dtype\": \"object\",\n        \"num_unique_values\": 1259,\n        \"samples\": [\n          \"2/28/2017\",\n          \"12/4/2020\",\n          \"1/10/2017\"\n        ],\n        \"semantic_type\": \"\",\n        \"description\": \"\"\n      }\n    },\n    {\n      \"column\": \"Open\",\n      \"properties\": {\n        \"dtype\": \"number\",\n        \"std\": 70.32008904820282,\n        \"min\": 58.23,\n        \"max\": 338.51001,\n        \"num_unique_values\": 1207,\n        \"samples\": [\n          65.459999,\n          85.260002,\n          250.869995\n        ],\n        \"semantic_type\": \"\",\n        \"description\": \"\"\n      }\n    },\n    {\n      \"column\": \"High\",\n      \"properties\": {\n        \"dtype\": \"number\",\n        \"std\": 70.99191528194272,\n        \"min\": 59.080002,\n        \"max\": 338.790009,\n        \"num_unique_values\": 1195,\n        \"samples\": [\n          136.619995,\n          83.120003,\n          249.270004\n        ],\n        \"semantic_type\": \"\",\n        \"description\": \"\"\n      }\n    },\n    {\n      \"column\": \"Low\",\n      \"properties\": {\n        \"dtype\": \"number\",\n        \"std\": 69.71749767165865,\n        \"min\": 57.279999,\n        \"max\": 334.420013,\n        \"num_unique_values\": 1194,\n        \"samples\": [\n          111.169998,\n          134.970001,\n          138.25\n        ],\n        \"semantic_type\": \"\",\n        \"description\": \"\"\n      }\n    },\n    {\n      \"column\": \"Close\",\n      \"properties\": {\n        \"dtype\": \"number\",\n        \"std\": 70.43666408818765,\n        \"min\": 58.119999,\n        \"max\": 336.440002,\n        \"num_unique_values\": 1201,\n        \"samples\": [\n          84.260002,\n          228.990005,\n          82.980003\n        ],\n        \"semantic_type\": \"\",\n        \"description\": \"\"\n      }\n    },\n    {\n      \"column\": \"Adj Close\",\n      \"properties\": {\n        \"dtype\": \"number\",\n        \"std\": 71.67180611534849,\n        \"min\": 53.774296,\n        \"max\": 336.440002,\n        \"num_unique_values\": 1223,\n        \"samples\": [\n          132.101166,\n          73.518021,\n          67.058723\n        ],\n        \"semantic_type\": \"\",\n        \"description\": \"\"\n      }\n    },\n    {\n      \"column\": \"Volume\",\n      \"properties\": {\n        \"dtype\": \"number\",\n        \"std\": 12754741,\n        \"min\": 7425600,\n        \"max\": 111242100,\n        \"num_unique_values\": 1258,\n        \"samples\": [\n          35535700,\n          12997400,\n          23097600\n        ],\n        \"semantic_type\": \"\",\n        \"description\": \"\"\n      }\n    }\n  ]\n}"
            }
          },
          "metadata": {},
          "execution_count": 3
        }
      ]
    },
    {
      "cell_type": "markdown",
      "source": [
        "## Preprocessing"
      ],
      "metadata": {
        "id": "85UPsF6KCABR"
      }
    },
    {
      "cell_type": "code",
      "source": [
        "# Convert `Date` to `DateTime`\n",
        "df['Date'] = pd.to_datetime(df['Date'])\n",
        "\n",
        "# Sort dataframe by `Date` (Ascending)\n",
        "df.sort_values(by='Date', inplace=True, ascending=True)\n",
        "\n",
        "# Drop Adj Close\n",
        "df.drop(columns=['Adj Close'], inplace=True)\n",
        "\n",
        "df.head(5)"
      ],
      "metadata": {
        "colab": {
          "base_uri": "https://localhost:8080/",
          "height": 206
        },
        "id": "YzIXm9j3CCjO",
        "outputId": "4a17c5d7-a116-4325-d339-9f2e7319cb86"
      },
      "execution_count": 4,
      "outputs": [
        {
          "output_type": "execute_result",
          "data": {
            "text/plain": [
              "        Date       Open       High        Low      Close    Volume\n",
              "0 2016-11-07  59.779999  60.520000  59.779999  60.419998  31664800\n",
              "1 2016-11-08  60.549999  60.779999  60.150002  60.470001  22935400\n",
              "2 2016-11-09  60.000000  60.590000  59.200001  60.169998  49632500\n",
              "3 2016-11-10  60.480000  60.490002  57.630001  58.700001  57822400\n",
              "4 2016-11-11  58.230000  59.119999  58.009998  59.020000  38767800"
            ],
            "text/html": [
              "\n",
              "  <div id=\"df-26fa1be0-0a20-4633-b7ea-096745979ef3\" class=\"colab-df-container\">\n",
              "    <div>\n",
              "<style scoped>\n",
              "    .dataframe tbody tr th:only-of-type {\n",
              "        vertical-align: middle;\n",
              "    }\n",
              "\n",
              "    .dataframe tbody tr th {\n",
              "        vertical-align: top;\n",
              "    }\n",
              "\n",
              "    .dataframe thead th {\n",
              "        text-align: right;\n",
              "    }\n",
              "</style>\n",
              "<table border=\"1\" class=\"dataframe\">\n",
              "  <thead>\n",
              "    <tr style=\"text-align: right;\">\n",
              "      <th></th>\n",
              "      <th>Date</th>\n",
              "      <th>Open</th>\n",
              "      <th>High</th>\n",
              "      <th>Low</th>\n",
              "      <th>Close</th>\n",
              "      <th>Volume</th>\n",
              "    </tr>\n",
              "  </thead>\n",
              "  <tbody>\n",
              "    <tr>\n",
              "      <th>0</th>\n",
              "      <td>2016-11-07</td>\n",
              "      <td>59.779999</td>\n",
              "      <td>60.520000</td>\n",
              "      <td>59.779999</td>\n",
              "      <td>60.419998</td>\n",
              "      <td>31664800</td>\n",
              "    </tr>\n",
              "    <tr>\n",
              "      <th>1</th>\n",
              "      <td>2016-11-08</td>\n",
              "      <td>60.549999</td>\n",
              "      <td>60.779999</td>\n",
              "      <td>60.150002</td>\n",
              "      <td>60.470001</td>\n",
              "      <td>22935400</td>\n",
              "    </tr>\n",
              "    <tr>\n",
              "      <th>2</th>\n",
              "      <td>2016-11-09</td>\n",
              "      <td>60.000000</td>\n",
              "      <td>60.590000</td>\n",
              "      <td>59.200001</td>\n",
              "      <td>60.169998</td>\n",
              "      <td>49632500</td>\n",
              "    </tr>\n",
              "    <tr>\n",
              "      <th>3</th>\n",
              "      <td>2016-11-10</td>\n",
              "      <td>60.480000</td>\n",
              "      <td>60.490002</td>\n",
              "      <td>57.630001</td>\n",
              "      <td>58.700001</td>\n",
              "      <td>57822400</td>\n",
              "    </tr>\n",
              "    <tr>\n",
              "      <th>4</th>\n",
              "      <td>2016-11-11</td>\n",
              "      <td>58.230000</td>\n",
              "      <td>59.119999</td>\n",
              "      <td>58.009998</td>\n",
              "      <td>59.020000</td>\n",
              "      <td>38767800</td>\n",
              "    </tr>\n",
              "  </tbody>\n",
              "</table>\n",
              "</div>\n",
              "    <div class=\"colab-df-buttons\">\n",
              "\n",
              "  <div class=\"colab-df-container\">\n",
              "    <button class=\"colab-df-convert\" onclick=\"convertToInteractive('df-26fa1be0-0a20-4633-b7ea-096745979ef3')\"\n",
              "            title=\"Convert this dataframe to an interactive table.\"\n",
              "            style=\"display:none;\">\n",
              "\n",
              "  <svg xmlns=\"http://www.w3.org/2000/svg\" height=\"24px\" viewBox=\"0 -960 960 960\">\n",
              "    <path d=\"M120-120v-720h720v720H120Zm60-500h600v-160H180v160Zm220 220h160v-160H400v160Zm0 220h160v-160H400v160ZM180-400h160v-160H180v160Zm440 0h160v-160H620v160ZM180-180h160v-160H180v160Zm440 0h160v-160H620v160Z\"/>\n",
              "  </svg>\n",
              "    </button>\n",
              "\n",
              "  <style>\n",
              "    .colab-df-container {\n",
              "      display:flex;\n",
              "      gap: 12px;\n",
              "    }\n",
              "\n",
              "    .colab-df-convert {\n",
              "      background-color: #E8F0FE;\n",
              "      border: none;\n",
              "      border-radius: 50%;\n",
              "      cursor: pointer;\n",
              "      display: none;\n",
              "      fill: #1967D2;\n",
              "      height: 32px;\n",
              "      padding: 0 0 0 0;\n",
              "      width: 32px;\n",
              "    }\n",
              "\n",
              "    .colab-df-convert:hover {\n",
              "      background-color: #E2EBFA;\n",
              "      box-shadow: 0px 1px 2px rgba(60, 64, 67, 0.3), 0px 1px 3px 1px rgba(60, 64, 67, 0.15);\n",
              "      fill: #174EA6;\n",
              "    }\n",
              "\n",
              "    .colab-df-buttons div {\n",
              "      margin-bottom: 4px;\n",
              "    }\n",
              "\n",
              "    [theme=dark] .colab-df-convert {\n",
              "      background-color: #3B4455;\n",
              "      fill: #D2E3FC;\n",
              "    }\n",
              "\n",
              "    [theme=dark] .colab-df-convert:hover {\n",
              "      background-color: #434B5C;\n",
              "      box-shadow: 0px 1px 3px 1px rgba(0, 0, 0, 0.15);\n",
              "      filter: drop-shadow(0px 1px 2px rgba(0, 0, 0, 0.3));\n",
              "      fill: #FFFFFF;\n",
              "    }\n",
              "  </style>\n",
              "\n",
              "    <script>\n",
              "      const buttonEl =\n",
              "        document.querySelector('#df-26fa1be0-0a20-4633-b7ea-096745979ef3 button.colab-df-convert');\n",
              "      buttonEl.style.display =\n",
              "        google.colab.kernel.accessAllowed ? 'block' : 'none';\n",
              "\n",
              "      async function convertToInteractive(key) {\n",
              "        const element = document.querySelector('#df-26fa1be0-0a20-4633-b7ea-096745979ef3');\n",
              "        const dataTable =\n",
              "          await google.colab.kernel.invokeFunction('convertToInteractive',\n",
              "                                                    [key], {});\n",
              "        if (!dataTable) return;\n",
              "\n",
              "        const docLinkHtml = 'Like what you see? Visit the ' +\n",
              "          '<a target=\"_blank\" href=https://colab.research.google.com/notebooks/data_table.ipynb>data table notebook</a>'\n",
              "          + ' to learn more about interactive tables.';\n",
              "        element.innerHTML = '';\n",
              "        dataTable['output_type'] = 'display_data';\n",
              "        await google.colab.output.renderOutput(dataTable, element);\n",
              "        const docLink = document.createElement('div');\n",
              "        docLink.innerHTML = docLinkHtml;\n",
              "        element.appendChild(docLink);\n",
              "      }\n",
              "    </script>\n",
              "  </div>\n",
              "\n",
              "\n",
              "    <div id=\"df-87bad472-05ce-4177-afe9-67c7a8f8c4b1\">\n",
              "      <button class=\"colab-df-quickchart\" onclick=\"quickchart('df-87bad472-05ce-4177-afe9-67c7a8f8c4b1')\"\n",
              "                title=\"Suggest charts\"\n",
              "                style=\"display:none;\">\n",
              "\n",
              "<svg xmlns=\"http://www.w3.org/2000/svg\" height=\"24px\"viewBox=\"0 0 24 24\"\n",
              "     width=\"24px\">\n",
              "    <g>\n",
              "        <path d=\"M19 3H5c-1.1 0-2 .9-2 2v14c0 1.1.9 2 2 2h14c1.1 0 2-.9 2-2V5c0-1.1-.9-2-2-2zM9 17H7v-7h2v7zm4 0h-2V7h2v10zm4 0h-2v-4h2v4z\"/>\n",
              "    </g>\n",
              "</svg>\n",
              "      </button>\n",
              "\n",
              "<style>\n",
              "  .colab-df-quickchart {\n",
              "      --bg-color: #E8F0FE;\n",
              "      --fill-color: #1967D2;\n",
              "      --hover-bg-color: #E2EBFA;\n",
              "      --hover-fill-color: #174EA6;\n",
              "      --disabled-fill-color: #AAA;\n",
              "      --disabled-bg-color: #DDD;\n",
              "  }\n",
              "\n",
              "  [theme=dark] .colab-df-quickchart {\n",
              "      --bg-color: #3B4455;\n",
              "      --fill-color: #D2E3FC;\n",
              "      --hover-bg-color: #434B5C;\n",
              "      --hover-fill-color: #FFFFFF;\n",
              "      --disabled-bg-color: #3B4455;\n",
              "      --disabled-fill-color: #666;\n",
              "  }\n",
              "\n",
              "  .colab-df-quickchart {\n",
              "    background-color: var(--bg-color);\n",
              "    border: none;\n",
              "    border-radius: 50%;\n",
              "    cursor: pointer;\n",
              "    display: none;\n",
              "    fill: var(--fill-color);\n",
              "    height: 32px;\n",
              "    padding: 0;\n",
              "    width: 32px;\n",
              "  }\n",
              "\n",
              "  .colab-df-quickchart:hover {\n",
              "    background-color: var(--hover-bg-color);\n",
              "    box-shadow: 0 1px 2px rgba(60, 64, 67, 0.3), 0 1px 3px 1px rgba(60, 64, 67, 0.15);\n",
              "    fill: var(--button-hover-fill-color);\n",
              "  }\n",
              "\n",
              "  .colab-df-quickchart-complete:disabled,\n",
              "  .colab-df-quickchart-complete:disabled:hover {\n",
              "    background-color: var(--disabled-bg-color);\n",
              "    fill: var(--disabled-fill-color);\n",
              "    box-shadow: none;\n",
              "  }\n",
              "\n",
              "  .colab-df-spinner {\n",
              "    border: 2px solid var(--fill-color);\n",
              "    border-color: transparent;\n",
              "    border-bottom-color: var(--fill-color);\n",
              "    animation:\n",
              "      spin 1s steps(1) infinite;\n",
              "  }\n",
              "\n",
              "  @keyframes spin {\n",
              "    0% {\n",
              "      border-color: transparent;\n",
              "      border-bottom-color: var(--fill-color);\n",
              "      border-left-color: var(--fill-color);\n",
              "    }\n",
              "    20% {\n",
              "      border-color: transparent;\n",
              "      border-left-color: var(--fill-color);\n",
              "      border-top-color: var(--fill-color);\n",
              "    }\n",
              "    30% {\n",
              "      border-color: transparent;\n",
              "      border-left-color: var(--fill-color);\n",
              "      border-top-color: var(--fill-color);\n",
              "      border-right-color: var(--fill-color);\n",
              "    }\n",
              "    40% {\n",
              "      border-color: transparent;\n",
              "      border-right-color: var(--fill-color);\n",
              "      border-top-color: var(--fill-color);\n",
              "    }\n",
              "    60% {\n",
              "      border-color: transparent;\n",
              "      border-right-color: var(--fill-color);\n",
              "    }\n",
              "    80% {\n",
              "      border-color: transparent;\n",
              "      border-right-color: var(--fill-color);\n",
              "      border-bottom-color: var(--fill-color);\n",
              "    }\n",
              "    90% {\n",
              "      border-color: transparent;\n",
              "      border-bottom-color: var(--fill-color);\n",
              "    }\n",
              "  }\n",
              "</style>\n",
              "\n",
              "      <script>\n",
              "        async function quickchart(key) {\n",
              "          const quickchartButtonEl =\n",
              "            document.querySelector('#' + key + ' button');\n",
              "          quickchartButtonEl.disabled = true;  // To prevent multiple clicks.\n",
              "          quickchartButtonEl.classList.add('colab-df-spinner');\n",
              "          try {\n",
              "            const charts = await google.colab.kernel.invokeFunction(\n",
              "                'suggestCharts', [key], {});\n",
              "          } catch (error) {\n",
              "            console.error('Error during call to suggestCharts:', error);\n",
              "          }\n",
              "          quickchartButtonEl.classList.remove('colab-df-spinner');\n",
              "          quickchartButtonEl.classList.add('colab-df-quickchart-complete');\n",
              "        }\n",
              "        (() => {\n",
              "          let quickchartButtonEl =\n",
              "            document.querySelector('#df-87bad472-05ce-4177-afe9-67c7a8f8c4b1 button');\n",
              "          quickchartButtonEl.style.display =\n",
              "            google.colab.kernel.accessAllowed ? 'block' : 'none';\n",
              "        })();\n",
              "      </script>\n",
              "    </div>\n",
              "\n",
              "    </div>\n",
              "  </div>\n"
            ],
            "application/vnd.google.colaboratory.intrinsic+json": {
              "type": "dataframe",
              "variable_name": "df",
              "summary": "{\n  \"name\": \"df\",\n  \"rows\": 1259,\n  \"fields\": [\n    {\n      \"column\": \"Date\",\n      \"properties\": {\n        \"dtype\": \"date\",\n        \"min\": \"2016-11-07 00:00:00\",\n        \"max\": \"2021-11-05 00:00:00\",\n        \"num_unique_values\": 1259,\n        \"samples\": [\n          \"2017-02-28 00:00:00\",\n          \"2020-12-04 00:00:00\",\n          \"2017-01-10 00:00:00\"\n        ],\n        \"semantic_type\": \"\",\n        \"description\": \"\"\n      }\n    },\n    {\n      \"column\": \"Open\",\n      \"properties\": {\n        \"dtype\": \"number\",\n        \"std\": 70.32008904820282,\n        \"min\": 58.23,\n        \"max\": 338.51001,\n        \"num_unique_values\": 1207,\n        \"samples\": [\n          65.459999,\n          85.260002,\n          250.869995\n        ],\n        \"semantic_type\": \"\",\n        \"description\": \"\"\n      }\n    },\n    {\n      \"column\": \"High\",\n      \"properties\": {\n        \"dtype\": \"number\",\n        \"std\": 70.99191528194272,\n        \"min\": 59.080002,\n        \"max\": 338.790009,\n        \"num_unique_values\": 1195,\n        \"samples\": [\n          136.619995,\n          83.120003,\n          249.270004\n        ],\n        \"semantic_type\": \"\",\n        \"description\": \"\"\n      }\n    },\n    {\n      \"column\": \"Low\",\n      \"properties\": {\n        \"dtype\": \"number\",\n        \"std\": 69.71749767165865,\n        \"min\": 57.279999,\n        \"max\": 334.420013,\n        \"num_unique_values\": 1194,\n        \"samples\": [\n          111.169998,\n          134.970001,\n          138.25\n        ],\n        \"semantic_type\": \"\",\n        \"description\": \"\"\n      }\n    },\n    {\n      \"column\": \"Close\",\n      \"properties\": {\n        \"dtype\": \"number\",\n        \"std\": 70.43666408818765,\n        \"min\": 58.119999,\n        \"max\": 336.440002,\n        \"num_unique_values\": 1201,\n        \"samples\": [\n          84.260002,\n          228.990005,\n          82.980003\n        ],\n        \"semantic_type\": \"\",\n        \"description\": \"\"\n      }\n    },\n    {\n      \"column\": \"Volume\",\n      \"properties\": {\n        \"dtype\": \"number\",\n        \"std\": 12754741,\n        \"min\": 7425600,\n        \"max\": 111242100,\n        \"num_unique_values\": 1258,\n        \"samples\": [\n          35535700,\n          12997400,\n          23097600\n        ],\n        \"semantic_type\": \"\",\n        \"description\": \"\"\n      }\n    }\n  ]\n}"
            }
          },
          "metadata": {},
          "execution_count": 4
        }
      ]
    },
    {
      "cell_type": "code",
      "source": [
        "from sklearn.preprocessing import MinMaxScaler\n",
        "\n",
        "# Normalize numerical columns using MinMaxScaler\n",
        "scaler = MinMaxScaler()\n",
        "df[['Close', 'High', 'Low', 'Open', 'Volume']] = scaler.fit_transform(df[['Close', 'High', 'Low', 'Open', 'Volume']])\n",
        "\n",
        "df.head(5)"
      ],
      "metadata": {
        "colab": {
          "base_uri": "https://localhost:8080/",
          "height": 206
        },
        "id": "dtzWYYpcCOeK",
        "outputId": "9f6d709b-1539-42c5-b0c4-2e92acc807f0"
      },
      "execution_count": 5,
      "outputs": [
        {
          "output_type": "execute_result",
          "data": {
            "text/plain": [
              "        Date      Open      High       Low     Close    Volume\n",
              "0 2016-11-07  0.005530  0.005148  0.009021  0.008264  0.233481\n",
              "1 2016-11-08  0.008277  0.006078  0.010356  0.008444  0.149396\n",
              "2 2016-11-09  0.006315  0.005398  0.006928  0.007366  0.406553\n",
              "3 2016-11-10  0.008028  0.005041  0.001263  0.002084  0.485441\n",
              "4 2016-11-11  0.000000  0.000143  0.002634  0.003234  0.301900"
            ],
            "text/html": [
              "\n",
              "  <div id=\"df-6b3fb6f6-e694-4a7e-b1af-333debec7b57\" class=\"colab-df-container\">\n",
              "    <div>\n",
              "<style scoped>\n",
              "    .dataframe tbody tr th:only-of-type {\n",
              "        vertical-align: middle;\n",
              "    }\n",
              "\n",
              "    .dataframe tbody tr th {\n",
              "        vertical-align: top;\n",
              "    }\n",
              "\n",
              "    .dataframe thead th {\n",
              "        text-align: right;\n",
              "    }\n",
              "</style>\n",
              "<table border=\"1\" class=\"dataframe\">\n",
              "  <thead>\n",
              "    <tr style=\"text-align: right;\">\n",
              "      <th></th>\n",
              "      <th>Date</th>\n",
              "      <th>Open</th>\n",
              "      <th>High</th>\n",
              "      <th>Low</th>\n",
              "      <th>Close</th>\n",
              "      <th>Volume</th>\n",
              "    </tr>\n",
              "  </thead>\n",
              "  <tbody>\n",
              "    <tr>\n",
              "      <th>0</th>\n",
              "      <td>2016-11-07</td>\n",
              "      <td>0.005530</td>\n",
              "      <td>0.005148</td>\n",
              "      <td>0.009021</td>\n",
              "      <td>0.008264</td>\n",
              "      <td>0.233481</td>\n",
              "    </tr>\n",
              "    <tr>\n",
              "      <th>1</th>\n",
              "      <td>2016-11-08</td>\n",
              "      <td>0.008277</td>\n",
              "      <td>0.006078</td>\n",
              "      <td>0.010356</td>\n",
              "      <td>0.008444</td>\n",
              "      <td>0.149396</td>\n",
              "    </tr>\n",
              "    <tr>\n",
              "      <th>2</th>\n",
              "      <td>2016-11-09</td>\n",
              "      <td>0.006315</td>\n",
              "      <td>0.005398</td>\n",
              "      <td>0.006928</td>\n",
              "      <td>0.007366</td>\n",
              "      <td>0.406553</td>\n",
              "    </tr>\n",
              "    <tr>\n",
              "      <th>3</th>\n",
              "      <td>2016-11-10</td>\n",
              "      <td>0.008028</td>\n",
              "      <td>0.005041</td>\n",
              "      <td>0.001263</td>\n",
              "      <td>0.002084</td>\n",
              "      <td>0.485441</td>\n",
              "    </tr>\n",
              "    <tr>\n",
              "      <th>4</th>\n",
              "      <td>2016-11-11</td>\n",
              "      <td>0.000000</td>\n",
              "      <td>0.000143</td>\n",
              "      <td>0.002634</td>\n",
              "      <td>0.003234</td>\n",
              "      <td>0.301900</td>\n",
              "    </tr>\n",
              "  </tbody>\n",
              "</table>\n",
              "</div>\n",
              "    <div class=\"colab-df-buttons\">\n",
              "\n",
              "  <div class=\"colab-df-container\">\n",
              "    <button class=\"colab-df-convert\" onclick=\"convertToInteractive('df-6b3fb6f6-e694-4a7e-b1af-333debec7b57')\"\n",
              "            title=\"Convert this dataframe to an interactive table.\"\n",
              "            style=\"display:none;\">\n",
              "\n",
              "  <svg xmlns=\"http://www.w3.org/2000/svg\" height=\"24px\" viewBox=\"0 -960 960 960\">\n",
              "    <path d=\"M120-120v-720h720v720H120Zm60-500h600v-160H180v160Zm220 220h160v-160H400v160Zm0 220h160v-160H400v160ZM180-400h160v-160H180v160Zm440 0h160v-160H620v160ZM180-180h160v-160H180v160Zm440 0h160v-160H620v160Z\"/>\n",
              "  </svg>\n",
              "    </button>\n",
              "\n",
              "  <style>\n",
              "    .colab-df-container {\n",
              "      display:flex;\n",
              "      gap: 12px;\n",
              "    }\n",
              "\n",
              "    .colab-df-convert {\n",
              "      background-color: #E8F0FE;\n",
              "      border: none;\n",
              "      border-radius: 50%;\n",
              "      cursor: pointer;\n",
              "      display: none;\n",
              "      fill: #1967D2;\n",
              "      height: 32px;\n",
              "      padding: 0 0 0 0;\n",
              "      width: 32px;\n",
              "    }\n",
              "\n",
              "    .colab-df-convert:hover {\n",
              "      background-color: #E2EBFA;\n",
              "      box-shadow: 0px 1px 2px rgba(60, 64, 67, 0.3), 0px 1px 3px 1px rgba(60, 64, 67, 0.15);\n",
              "      fill: #174EA6;\n",
              "    }\n",
              "\n",
              "    .colab-df-buttons div {\n",
              "      margin-bottom: 4px;\n",
              "    }\n",
              "\n",
              "    [theme=dark] .colab-df-convert {\n",
              "      background-color: #3B4455;\n",
              "      fill: #D2E3FC;\n",
              "    }\n",
              "\n",
              "    [theme=dark] .colab-df-convert:hover {\n",
              "      background-color: #434B5C;\n",
              "      box-shadow: 0px 1px 3px 1px rgba(0, 0, 0, 0.15);\n",
              "      filter: drop-shadow(0px 1px 2px rgba(0, 0, 0, 0.3));\n",
              "      fill: #FFFFFF;\n",
              "    }\n",
              "  </style>\n",
              "\n",
              "    <script>\n",
              "      const buttonEl =\n",
              "        document.querySelector('#df-6b3fb6f6-e694-4a7e-b1af-333debec7b57 button.colab-df-convert');\n",
              "      buttonEl.style.display =\n",
              "        google.colab.kernel.accessAllowed ? 'block' : 'none';\n",
              "\n",
              "      async function convertToInteractive(key) {\n",
              "        const element = document.querySelector('#df-6b3fb6f6-e694-4a7e-b1af-333debec7b57');\n",
              "        const dataTable =\n",
              "          await google.colab.kernel.invokeFunction('convertToInteractive',\n",
              "                                                    [key], {});\n",
              "        if (!dataTable) return;\n",
              "\n",
              "        const docLinkHtml = 'Like what you see? Visit the ' +\n",
              "          '<a target=\"_blank\" href=https://colab.research.google.com/notebooks/data_table.ipynb>data table notebook</a>'\n",
              "          + ' to learn more about interactive tables.';\n",
              "        element.innerHTML = '';\n",
              "        dataTable['output_type'] = 'display_data';\n",
              "        await google.colab.output.renderOutput(dataTable, element);\n",
              "        const docLink = document.createElement('div');\n",
              "        docLink.innerHTML = docLinkHtml;\n",
              "        element.appendChild(docLink);\n",
              "      }\n",
              "    </script>\n",
              "  </div>\n",
              "\n",
              "\n",
              "    <div id=\"df-c00b077d-85a0-4fe7-bf37-90b21706717b\">\n",
              "      <button class=\"colab-df-quickchart\" onclick=\"quickchart('df-c00b077d-85a0-4fe7-bf37-90b21706717b')\"\n",
              "                title=\"Suggest charts\"\n",
              "                style=\"display:none;\">\n",
              "\n",
              "<svg xmlns=\"http://www.w3.org/2000/svg\" height=\"24px\"viewBox=\"0 0 24 24\"\n",
              "     width=\"24px\">\n",
              "    <g>\n",
              "        <path d=\"M19 3H5c-1.1 0-2 .9-2 2v14c0 1.1.9 2 2 2h14c1.1 0 2-.9 2-2V5c0-1.1-.9-2-2-2zM9 17H7v-7h2v7zm4 0h-2V7h2v10zm4 0h-2v-4h2v4z\"/>\n",
              "    </g>\n",
              "</svg>\n",
              "      </button>\n",
              "\n",
              "<style>\n",
              "  .colab-df-quickchart {\n",
              "      --bg-color: #E8F0FE;\n",
              "      --fill-color: #1967D2;\n",
              "      --hover-bg-color: #E2EBFA;\n",
              "      --hover-fill-color: #174EA6;\n",
              "      --disabled-fill-color: #AAA;\n",
              "      --disabled-bg-color: #DDD;\n",
              "  }\n",
              "\n",
              "  [theme=dark] .colab-df-quickchart {\n",
              "      --bg-color: #3B4455;\n",
              "      --fill-color: #D2E3FC;\n",
              "      --hover-bg-color: #434B5C;\n",
              "      --hover-fill-color: #FFFFFF;\n",
              "      --disabled-bg-color: #3B4455;\n",
              "      --disabled-fill-color: #666;\n",
              "  }\n",
              "\n",
              "  .colab-df-quickchart {\n",
              "    background-color: var(--bg-color);\n",
              "    border: none;\n",
              "    border-radius: 50%;\n",
              "    cursor: pointer;\n",
              "    display: none;\n",
              "    fill: var(--fill-color);\n",
              "    height: 32px;\n",
              "    padding: 0;\n",
              "    width: 32px;\n",
              "  }\n",
              "\n",
              "  .colab-df-quickchart:hover {\n",
              "    background-color: var(--hover-bg-color);\n",
              "    box-shadow: 0 1px 2px rgba(60, 64, 67, 0.3), 0 1px 3px 1px rgba(60, 64, 67, 0.15);\n",
              "    fill: var(--button-hover-fill-color);\n",
              "  }\n",
              "\n",
              "  .colab-df-quickchart-complete:disabled,\n",
              "  .colab-df-quickchart-complete:disabled:hover {\n",
              "    background-color: var(--disabled-bg-color);\n",
              "    fill: var(--disabled-fill-color);\n",
              "    box-shadow: none;\n",
              "  }\n",
              "\n",
              "  .colab-df-spinner {\n",
              "    border: 2px solid var(--fill-color);\n",
              "    border-color: transparent;\n",
              "    border-bottom-color: var(--fill-color);\n",
              "    animation:\n",
              "      spin 1s steps(1) infinite;\n",
              "  }\n",
              "\n",
              "  @keyframes spin {\n",
              "    0% {\n",
              "      border-color: transparent;\n",
              "      border-bottom-color: var(--fill-color);\n",
              "      border-left-color: var(--fill-color);\n",
              "    }\n",
              "    20% {\n",
              "      border-color: transparent;\n",
              "      border-left-color: var(--fill-color);\n",
              "      border-top-color: var(--fill-color);\n",
              "    }\n",
              "    30% {\n",
              "      border-color: transparent;\n",
              "      border-left-color: var(--fill-color);\n",
              "      border-top-color: var(--fill-color);\n",
              "      border-right-color: var(--fill-color);\n",
              "    }\n",
              "    40% {\n",
              "      border-color: transparent;\n",
              "      border-right-color: var(--fill-color);\n",
              "      border-top-color: var(--fill-color);\n",
              "    }\n",
              "    60% {\n",
              "      border-color: transparent;\n",
              "      border-right-color: var(--fill-color);\n",
              "    }\n",
              "    80% {\n",
              "      border-color: transparent;\n",
              "      border-right-color: var(--fill-color);\n",
              "      border-bottom-color: var(--fill-color);\n",
              "    }\n",
              "    90% {\n",
              "      border-color: transparent;\n",
              "      border-bottom-color: var(--fill-color);\n",
              "    }\n",
              "  }\n",
              "</style>\n",
              "\n",
              "      <script>\n",
              "        async function quickchart(key) {\n",
              "          const quickchartButtonEl =\n",
              "            document.querySelector('#' + key + ' button');\n",
              "          quickchartButtonEl.disabled = true;  // To prevent multiple clicks.\n",
              "          quickchartButtonEl.classList.add('colab-df-spinner');\n",
              "          try {\n",
              "            const charts = await google.colab.kernel.invokeFunction(\n",
              "                'suggestCharts', [key], {});\n",
              "          } catch (error) {\n",
              "            console.error('Error during call to suggestCharts:', error);\n",
              "          }\n",
              "          quickchartButtonEl.classList.remove('colab-df-spinner');\n",
              "          quickchartButtonEl.classList.add('colab-df-quickchart-complete');\n",
              "        }\n",
              "        (() => {\n",
              "          let quickchartButtonEl =\n",
              "            document.querySelector('#df-c00b077d-85a0-4fe7-bf37-90b21706717b button');\n",
              "          quickchartButtonEl.style.display =\n",
              "            google.colab.kernel.accessAllowed ? 'block' : 'none';\n",
              "        })();\n",
              "      </script>\n",
              "    </div>\n",
              "\n",
              "    </div>\n",
              "  </div>\n"
            ],
            "application/vnd.google.colaboratory.intrinsic+json": {
              "type": "dataframe",
              "variable_name": "df",
              "summary": "{\n  \"name\": \"df\",\n  \"rows\": 1259,\n  \"fields\": [\n    {\n      \"column\": \"Date\",\n      \"properties\": {\n        \"dtype\": \"date\",\n        \"min\": \"2016-11-07 00:00:00\",\n        \"max\": \"2021-11-05 00:00:00\",\n        \"num_unique_values\": 1259,\n        \"samples\": [\n          \"2017-02-28 00:00:00\",\n          \"2020-12-04 00:00:00\",\n          \"2017-01-10 00:00:00\"\n        ],\n        \"semantic_type\": \"\",\n        \"description\": \"\"\n      }\n    },\n    {\n      \"column\": \"Open\",\n      \"properties\": {\n        \"dtype\": \"number\",\n        \"std\": 0.2508922739377769,\n        \"min\": 0.0,\n        \"max\": 1.0,\n        \"num_unique_values\": 1207,\n        \"samples\": [\n          0.025795628450277275,\n          0.0964392787056059,\n          0.687312644951026\n        ],\n        \"semantic_type\": \"\",\n        \"description\": \"\"\n      }\n    },\n    {\n      \"column\": \"High\",\n      \"properties\": {\n        \"dtype\": \"number\",\n        \"std\": 0.2538054181305811,\n        \"min\": 0.0,\n        \"max\": 1.0,\n        \"num_unique_values\": 1195,\n        \"samples\": [\n          0.27721565571302564,\n          0.08594615994557536,\n          0.679954228452041\n        ],\n        \"semantic_type\": \"\",\n        \"description\": \"\"\n      }\n    },\n    {\n      \"column\": \"Low\",\n      \"properties\": {\n        \"dtype\": \"number\",\n        \"std\": 0.25156056198964705,\n        \"min\": 0.0,\n        \"max\": 0.9999999999999999,\n        \"num_unique_values\": 1194,\n        \"samples\": [\n          0.19445044482100665,\n          0.2803276252991746,\n          0.29216279465151507\n        ],\n        \"semantic_type\": \"\",\n        \"description\": \"\"\n      }\n    },\n    {\n      \"column\": \"Close\",\n      \"properties\": {\n        \"dtype\": \"number\",\n        \"std\": 0.2530779797677269,\n        \"min\": 0.0,\n        \"max\": 1.0,\n        \"num_unique_values\": 1201,\n        \"samples\": [\n          0.0939206766248849,\n          0.6139336165500113,\n          0.0893216575597694\n        ],\n        \"semantic_type\": \"\",\n        \"description\": \"\"\n      }\n    },\n    {\n      \"column\": \"Volume\",\n      \"properties\": {\n        \"dtype\": \"number\",\n        \"std\": 0.12285852246977358,\n        \"min\": 0.0,\n        \"max\": 1.0,\n        \"num_unique_values\": 1258,\n        \"samples\": [\n          0.2707671709217706,\n          0.053669696050242494,\n          0.15095866264033175\n        ],\n        \"semantic_type\": \"\",\n        \"description\": \"\"\n      }\n    }\n  ]\n}"
            }
          },
          "metadata": {},
          "execution_count": 5
        }
      ]
    },
    {
      "cell_type": "code",
      "source": [
        "# Set `Date` as index; It's unique\n",
        "if (df.duplicated(subset=['Date']).sum() > 0):\n",
        "    assert False, \"Duplicate dates found\"\n",
        "\n",
        "df.set_index('Date', inplace=True)\n",
        "df.head(5)"
      ],
      "metadata": {
        "colab": {
          "base_uri": "https://localhost:8080/",
          "height": 238
        },
        "id": "2Jj3pMV4DQFz",
        "outputId": "e5bd166b-000d-4d7f-e357-0d5d39b4241a"
      },
      "execution_count": 6,
      "outputs": [
        {
          "output_type": "execute_result",
          "data": {
            "text/plain": [
              "                Open      High       Low     Close    Volume\n",
              "Date                                                        \n",
              "2016-11-07  0.005530  0.005148  0.009021  0.008264  0.233481\n",
              "2016-11-08  0.008277  0.006078  0.010356  0.008444  0.149396\n",
              "2016-11-09  0.006315  0.005398  0.006928  0.007366  0.406553\n",
              "2016-11-10  0.008028  0.005041  0.001263  0.002084  0.485441\n",
              "2016-11-11  0.000000  0.000143  0.002634  0.003234  0.301900"
            ],
            "text/html": [
              "\n",
              "  <div id=\"df-1c3f5409-abf5-4075-913d-73788e01b0fe\" class=\"colab-df-container\">\n",
              "    <div>\n",
              "<style scoped>\n",
              "    .dataframe tbody tr th:only-of-type {\n",
              "        vertical-align: middle;\n",
              "    }\n",
              "\n",
              "    .dataframe tbody tr th {\n",
              "        vertical-align: top;\n",
              "    }\n",
              "\n",
              "    .dataframe thead th {\n",
              "        text-align: right;\n",
              "    }\n",
              "</style>\n",
              "<table border=\"1\" class=\"dataframe\">\n",
              "  <thead>\n",
              "    <tr style=\"text-align: right;\">\n",
              "      <th></th>\n",
              "      <th>Open</th>\n",
              "      <th>High</th>\n",
              "      <th>Low</th>\n",
              "      <th>Close</th>\n",
              "      <th>Volume</th>\n",
              "    </tr>\n",
              "    <tr>\n",
              "      <th>Date</th>\n",
              "      <th></th>\n",
              "      <th></th>\n",
              "      <th></th>\n",
              "      <th></th>\n",
              "      <th></th>\n",
              "    </tr>\n",
              "  </thead>\n",
              "  <tbody>\n",
              "    <tr>\n",
              "      <th>2016-11-07</th>\n",
              "      <td>0.005530</td>\n",
              "      <td>0.005148</td>\n",
              "      <td>0.009021</td>\n",
              "      <td>0.008264</td>\n",
              "      <td>0.233481</td>\n",
              "    </tr>\n",
              "    <tr>\n",
              "      <th>2016-11-08</th>\n",
              "      <td>0.008277</td>\n",
              "      <td>0.006078</td>\n",
              "      <td>0.010356</td>\n",
              "      <td>0.008444</td>\n",
              "      <td>0.149396</td>\n",
              "    </tr>\n",
              "    <tr>\n",
              "      <th>2016-11-09</th>\n",
              "      <td>0.006315</td>\n",
              "      <td>0.005398</td>\n",
              "      <td>0.006928</td>\n",
              "      <td>0.007366</td>\n",
              "      <td>0.406553</td>\n",
              "    </tr>\n",
              "    <tr>\n",
              "      <th>2016-11-10</th>\n",
              "      <td>0.008028</td>\n",
              "      <td>0.005041</td>\n",
              "      <td>0.001263</td>\n",
              "      <td>0.002084</td>\n",
              "      <td>0.485441</td>\n",
              "    </tr>\n",
              "    <tr>\n",
              "      <th>2016-11-11</th>\n",
              "      <td>0.000000</td>\n",
              "      <td>0.000143</td>\n",
              "      <td>0.002634</td>\n",
              "      <td>0.003234</td>\n",
              "      <td>0.301900</td>\n",
              "    </tr>\n",
              "  </tbody>\n",
              "</table>\n",
              "</div>\n",
              "    <div class=\"colab-df-buttons\">\n",
              "\n",
              "  <div class=\"colab-df-container\">\n",
              "    <button class=\"colab-df-convert\" onclick=\"convertToInteractive('df-1c3f5409-abf5-4075-913d-73788e01b0fe')\"\n",
              "            title=\"Convert this dataframe to an interactive table.\"\n",
              "            style=\"display:none;\">\n",
              "\n",
              "  <svg xmlns=\"http://www.w3.org/2000/svg\" height=\"24px\" viewBox=\"0 -960 960 960\">\n",
              "    <path d=\"M120-120v-720h720v720H120Zm60-500h600v-160H180v160Zm220 220h160v-160H400v160Zm0 220h160v-160H400v160ZM180-400h160v-160H180v160Zm440 0h160v-160H620v160ZM180-180h160v-160H180v160Zm440 0h160v-160H620v160Z\"/>\n",
              "  </svg>\n",
              "    </button>\n",
              "\n",
              "  <style>\n",
              "    .colab-df-container {\n",
              "      display:flex;\n",
              "      gap: 12px;\n",
              "    }\n",
              "\n",
              "    .colab-df-convert {\n",
              "      background-color: #E8F0FE;\n",
              "      border: none;\n",
              "      border-radius: 50%;\n",
              "      cursor: pointer;\n",
              "      display: none;\n",
              "      fill: #1967D2;\n",
              "      height: 32px;\n",
              "      padding: 0 0 0 0;\n",
              "      width: 32px;\n",
              "    }\n",
              "\n",
              "    .colab-df-convert:hover {\n",
              "      background-color: #E2EBFA;\n",
              "      box-shadow: 0px 1px 2px rgba(60, 64, 67, 0.3), 0px 1px 3px 1px rgba(60, 64, 67, 0.15);\n",
              "      fill: #174EA6;\n",
              "    }\n",
              "\n",
              "    .colab-df-buttons div {\n",
              "      margin-bottom: 4px;\n",
              "    }\n",
              "\n",
              "    [theme=dark] .colab-df-convert {\n",
              "      background-color: #3B4455;\n",
              "      fill: #D2E3FC;\n",
              "    }\n",
              "\n",
              "    [theme=dark] .colab-df-convert:hover {\n",
              "      background-color: #434B5C;\n",
              "      box-shadow: 0px 1px 3px 1px rgba(0, 0, 0, 0.15);\n",
              "      filter: drop-shadow(0px 1px 2px rgba(0, 0, 0, 0.3));\n",
              "      fill: #FFFFFF;\n",
              "    }\n",
              "  </style>\n",
              "\n",
              "    <script>\n",
              "      const buttonEl =\n",
              "        document.querySelector('#df-1c3f5409-abf5-4075-913d-73788e01b0fe button.colab-df-convert');\n",
              "      buttonEl.style.display =\n",
              "        google.colab.kernel.accessAllowed ? 'block' : 'none';\n",
              "\n",
              "      async function convertToInteractive(key) {\n",
              "        const element = document.querySelector('#df-1c3f5409-abf5-4075-913d-73788e01b0fe');\n",
              "        const dataTable =\n",
              "          await google.colab.kernel.invokeFunction('convertToInteractive',\n",
              "                                                    [key], {});\n",
              "        if (!dataTable) return;\n",
              "\n",
              "        const docLinkHtml = 'Like what you see? Visit the ' +\n",
              "          '<a target=\"_blank\" href=https://colab.research.google.com/notebooks/data_table.ipynb>data table notebook</a>'\n",
              "          + ' to learn more about interactive tables.';\n",
              "        element.innerHTML = '';\n",
              "        dataTable['output_type'] = 'display_data';\n",
              "        await google.colab.output.renderOutput(dataTable, element);\n",
              "        const docLink = document.createElement('div');\n",
              "        docLink.innerHTML = docLinkHtml;\n",
              "        element.appendChild(docLink);\n",
              "      }\n",
              "    </script>\n",
              "  </div>\n",
              "\n",
              "\n",
              "    <div id=\"df-5c12b21b-c287-4ba9-92d3-c939522998f4\">\n",
              "      <button class=\"colab-df-quickchart\" onclick=\"quickchart('df-5c12b21b-c287-4ba9-92d3-c939522998f4')\"\n",
              "                title=\"Suggest charts\"\n",
              "                style=\"display:none;\">\n",
              "\n",
              "<svg xmlns=\"http://www.w3.org/2000/svg\" height=\"24px\"viewBox=\"0 0 24 24\"\n",
              "     width=\"24px\">\n",
              "    <g>\n",
              "        <path d=\"M19 3H5c-1.1 0-2 .9-2 2v14c0 1.1.9 2 2 2h14c1.1 0 2-.9 2-2V5c0-1.1-.9-2-2-2zM9 17H7v-7h2v7zm4 0h-2V7h2v10zm4 0h-2v-4h2v4z\"/>\n",
              "    </g>\n",
              "</svg>\n",
              "      </button>\n",
              "\n",
              "<style>\n",
              "  .colab-df-quickchart {\n",
              "      --bg-color: #E8F0FE;\n",
              "      --fill-color: #1967D2;\n",
              "      --hover-bg-color: #E2EBFA;\n",
              "      --hover-fill-color: #174EA6;\n",
              "      --disabled-fill-color: #AAA;\n",
              "      --disabled-bg-color: #DDD;\n",
              "  }\n",
              "\n",
              "  [theme=dark] .colab-df-quickchart {\n",
              "      --bg-color: #3B4455;\n",
              "      --fill-color: #D2E3FC;\n",
              "      --hover-bg-color: #434B5C;\n",
              "      --hover-fill-color: #FFFFFF;\n",
              "      --disabled-bg-color: #3B4455;\n",
              "      --disabled-fill-color: #666;\n",
              "  }\n",
              "\n",
              "  .colab-df-quickchart {\n",
              "    background-color: var(--bg-color);\n",
              "    border: none;\n",
              "    border-radius: 50%;\n",
              "    cursor: pointer;\n",
              "    display: none;\n",
              "    fill: var(--fill-color);\n",
              "    height: 32px;\n",
              "    padding: 0;\n",
              "    width: 32px;\n",
              "  }\n",
              "\n",
              "  .colab-df-quickchart:hover {\n",
              "    background-color: var(--hover-bg-color);\n",
              "    box-shadow: 0 1px 2px rgba(60, 64, 67, 0.3), 0 1px 3px 1px rgba(60, 64, 67, 0.15);\n",
              "    fill: var(--button-hover-fill-color);\n",
              "  }\n",
              "\n",
              "  .colab-df-quickchart-complete:disabled,\n",
              "  .colab-df-quickchart-complete:disabled:hover {\n",
              "    background-color: var(--disabled-bg-color);\n",
              "    fill: var(--disabled-fill-color);\n",
              "    box-shadow: none;\n",
              "  }\n",
              "\n",
              "  .colab-df-spinner {\n",
              "    border: 2px solid var(--fill-color);\n",
              "    border-color: transparent;\n",
              "    border-bottom-color: var(--fill-color);\n",
              "    animation:\n",
              "      spin 1s steps(1) infinite;\n",
              "  }\n",
              "\n",
              "  @keyframes spin {\n",
              "    0% {\n",
              "      border-color: transparent;\n",
              "      border-bottom-color: var(--fill-color);\n",
              "      border-left-color: var(--fill-color);\n",
              "    }\n",
              "    20% {\n",
              "      border-color: transparent;\n",
              "      border-left-color: var(--fill-color);\n",
              "      border-top-color: var(--fill-color);\n",
              "    }\n",
              "    30% {\n",
              "      border-color: transparent;\n",
              "      border-left-color: var(--fill-color);\n",
              "      border-top-color: var(--fill-color);\n",
              "      border-right-color: var(--fill-color);\n",
              "    }\n",
              "    40% {\n",
              "      border-color: transparent;\n",
              "      border-right-color: var(--fill-color);\n",
              "      border-top-color: var(--fill-color);\n",
              "    }\n",
              "    60% {\n",
              "      border-color: transparent;\n",
              "      border-right-color: var(--fill-color);\n",
              "    }\n",
              "    80% {\n",
              "      border-color: transparent;\n",
              "      border-right-color: var(--fill-color);\n",
              "      border-bottom-color: var(--fill-color);\n",
              "    }\n",
              "    90% {\n",
              "      border-color: transparent;\n",
              "      border-bottom-color: var(--fill-color);\n",
              "    }\n",
              "  }\n",
              "</style>\n",
              "\n",
              "      <script>\n",
              "        async function quickchart(key) {\n",
              "          const quickchartButtonEl =\n",
              "            document.querySelector('#' + key + ' button');\n",
              "          quickchartButtonEl.disabled = true;  // To prevent multiple clicks.\n",
              "          quickchartButtonEl.classList.add('colab-df-spinner');\n",
              "          try {\n",
              "            const charts = await google.colab.kernel.invokeFunction(\n",
              "                'suggestCharts', [key], {});\n",
              "          } catch (error) {\n",
              "            console.error('Error during call to suggestCharts:', error);\n",
              "          }\n",
              "          quickchartButtonEl.classList.remove('colab-df-spinner');\n",
              "          quickchartButtonEl.classList.add('colab-df-quickchart-complete');\n",
              "        }\n",
              "        (() => {\n",
              "          let quickchartButtonEl =\n",
              "            document.querySelector('#df-5c12b21b-c287-4ba9-92d3-c939522998f4 button');\n",
              "          quickchartButtonEl.style.display =\n",
              "            google.colab.kernel.accessAllowed ? 'block' : 'none';\n",
              "        })();\n",
              "      </script>\n",
              "    </div>\n",
              "\n",
              "    </div>\n",
              "  </div>\n"
            ],
            "application/vnd.google.colaboratory.intrinsic+json": {
              "type": "dataframe",
              "variable_name": "df",
              "summary": "{\n  \"name\": \"df\",\n  \"rows\": 1259,\n  \"fields\": [\n    {\n      \"column\": \"Date\",\n      \"properties\": {\n        \"dtype\": \"date\",\n        \"min\": \"2016-11-07 00:00:00\",\n        \"max\": \"2021-11-05 00:00:00\",\n        \"num_unique_values\": 1259,\n        \"samples\": [\n          \"2017-02-28 00:00:00\",\n          \"2020-12-04 00:00:00\",\n          \"2017-01-10 00:00:00\"\n        ],\n        \"semantic_type\": \"\",\n        \"description\": \"\"\n      }\n    },\n    {\n      \"column\": \"Open\",\n      \"properties\": {\n        \"dtype\": \"number\",\n        \"std\": 0.2508922739377769,\n        \"min\": 0.0,\n        \"max\": 1.0,\n        \"num_unique_values\": 1207,\n        \"samples\": [\n          0.025795628450277275,\n          0.0964392787056059,\n          0.687312644951026\n        ],\n        \"semantic_type\": \"\",\n        \"description\": \"\"\n      }\n    },\n    {\n      \"column\": \"High\",\n      \"properties\": {\n        \"dtype\": \"number\",\n        \"std\": 0.2538054181305811,\n        \"min\": 0.0,\n        \"max\": 1.0,\n        \"num_unique_values\": 1195,\n        \"samples\": [\n          0.27721565571302564,\n          0.08594615994557536,\n          0.679954228452041\n        ],\n        \"semantic_type\": \"\",\n        \"description\": \"\"\n      }\n    },\n    {\n      \"column\": \"Low\",\n      \"properties\": {\n        \"dtype\": \"number\",\n        \"std\": 0.25156056198964705,\n        \"min\": 0.0,\n        \"max\": 0.9999999999999999,\n        \"num_unique_values\": 1194,\n        \"samples\": [\n          0.19445044482100665,\n          0.2803276252991746,\n          0.29216279465151507\n        ],\n        \"semantic_type\": \"\",\n        \"description\": \"\"\n      }\n    },\n    {\n      \"column\": \"Close\",\n      \"properties\": {\n        \"dtype\": \"number\",\n        \"std\": 0.2530779797677269,\n        \"min\": 0.0,\n        \"max\": 1.0,\n        \"num_unique_values\": 1201,\n        \"samples\": [\n          0.0939206766248849,\n          0.6139336165500113,\n          0.0893216575597694\n        ],\n        \"semantic_type\": \"\",\n        \"description\": \"\"\n      }\n    },\n    {\n      \"column\": \"Volume\",\n      \"properties\": {\n        \"dtype\": \"number\",\n        \"std\": 0.12285852246977358,\n        \"min\": 0.0,\n        \"max\": 1.0,\n        \"num_unique_values\": 1258,\n        \"samples\": [\n          0.2707671709217706,\n          0.053669696050242494,\n          0.15095866264033175\n        ],\n        \"semantic_type\": \"\",\n        \"description\": \"\"\n      }\n    }\n  ]\n}"
            }
          },
          "metadata": {},
          "execution_count": 6
        }
      ]
    },
    {
      "cell_type": "code",
      "source": [
        "df.shape"
      ],
      "metadata": {
        "colab": {
          "base_uri": "https://localhost:8080/"
        },
        "id": "IVoKi-EFFIit",
        "outputId": "326d42c3-3527-4ab1-9797-473315fc0346"
      },
      "execution_count": 7,
      "outputs": [
        {
          "output_type": "execute_result",
          "data": {
            "text/plain": [
              "(1259, 5)"
            ]
          },
          "metadata": {},
          "execution_count": 7
        }
      ]
    },
    {
      "cell_type": "markdown",
      "source": [
        "## Windowing"
      ],
      "metadata": {
        "id": "o79YCkqkD3Gp"
      }
    },
    {
      "cell_type": "code",
      "source": [
        "train_size = df.shape[0] * 80 // 100\n",
        "test_size = df.shape[0] - train_size\n",
        "train_size, test_size"
      ],
      "metadata": {
        "colab": {
          "base_uri": "https://localhost:8080/"
        },
        "id": "ZC190Jh7DbTn",
        "outputId": "fa09fe21-f894-4952-97df-8e0767bf7a24"
      },
      "execution_count": 8,
      "outputs": [
        {
          "output_type": "execute_result",
          "data": {
            "text/plain": [
              "(1007, 252)"
            ]
          },
          "metadata": {},
          "execution_count": 8
        }
      ]
    },
    {
      "cell_type": "code",
      "source": [
        "# Use a sliding window of N days (e.g., 20 days) to predict the next dayʼs values.\n",
        "train_data = tf.data.Dataset.from_tensor_slices(df.values[:train_size])\n",
        "test_data = tf.data.Dataset.from_tensor_slices(df.values[train_size:])\n",
        "\n",
        "n_steps = 20\n",
        "window_length = n_steps + 1\n",
        "train_data = train_data.window(window_length, shift =1, drop_remainder=True )\n",
        "test_data = test_data.window(window_length, shift =1, drop_remainder=True )"
      ],
      "metadata": {
        "id": "ECtY9oMlFW9t"
      },
      "execution_count": 9,
      "outputs": []
    },
    {
      "cell_type": "code",
      "source": [
        "for window in train_data.take(2):\n",
        "    t = list(window.as_numpy_iterator())\n",
        "    print(len(t))\n",
        "    print(t)"
      ],
      "metadata": {
        "collapsed": true,
        "colab": {
          "base_uri": "https://localhost:8080/"
        },
        "id": "pVP5cecSFtLh",
        "outputId": "a53e4967-dfc4-476f-eef4-8129e171fba6"
      },
      "execution_count": 10,
      "outputs": [
        {
          "output_type": "stream",
          "name": "stdout",
          "text": [
            "21\n",
            "[array([0.00553018, 0.00514818, 0.00902071, 0.00826387, 0.23348119]), array([0.00827743, 0.00607771, 0.01035579, 0.00844353, 0.14939629]), array([0.00631511, 0.00539844, 0.00692791, 0.00736562, 0.40655291]), array([0.00802769, 0.00504094, 0.00126291, 0.00208394, 0.48544114]), array([0.00000000e+00, 1.42994526e-04, 2.63404403e-03, 3.23369140e-03,\n",
            "       3.01899987e-01]), array([0.00281861, 0.        , 0.        , 0.        , 0.32656466]), array([0.00035679, 0.0014658 , 0.00375262, 0.00269474, 0.27431574]), array([0.00253318, 0.00207357, 0.00552068, 0.00549728, 0.19175083]), array([0.00777794, 0.00668549, 0.00970629, 0.00905433, 0.23798818]), array([0.00909804, 0.00736476, 0.01089702, 0.00801236, 0.19515877]), array([0.00809904, 0.00675699, 0.01133001, 0.00984479, 0.11777511]), array([0.00981162, 0.00779377, 0.01273725, 0.01077896, 0.15200956]), array([0.00991865, 0.00722175, 0.01071661, 0.00819202, 0.13893071]), array([0.00738547, 0.00518393, 0.01028362, 0.0086591 , 0.00947826]), array([0.00752819, 0.00693575, 0.01057227, 0.00894654, 0.12817808]), array([0.00863423, 0.00833005, 0.01169085, 0.01067117, 0.14391836]), array([0.00938348, 0.00750777, 0.01060836, 0.00768899, 0.26228779]), array([0.00670758, 0.00382539, 0.00598975, 0.00388043, 0.26119644]), array([0.00303269, 0.0013943 , 0.00548459, 0.00406008, 0.17425072]), array([0.00524476, 0.00539844, 0.0082269 , 0.00754528, 0.15534236]), array([0.00784929, 0.00493367, 0.00909288, 0.00657517, 0.12022559])]\n",
            "21\n",
            "[array([0.00827743, 0.00607771, 0.01035579, 0.00844353, 0.14939629]), array([0.00631511, 0.00539844, 0.00692791, 0.00736562, 0.40655291]), array([0.00802769, 0.00504094, 0.00126291, 0.00208394, 0.48544114]), array([0.00000000e+00, 1.42994526e-04, 2.63404403e-03, 3.23369140e-03,\n",
            "       3.01899987e-01]), array([0.00281861, 0.        , 0.        , 0.        , 0.32656466]), array([0.00035679, 0.0014658 , 0.00375262, 0.00269474, 0.27431574]), array([0.00253318, 0.00207357, 0.00552068, 0.00549728, 0.19175083]), array([0.00777794, 0.00668549, 0.00970629, 0.00905433, 0.23798818]), array([0.00909804, 0.00736476, 0.01089702, 0.00801236, 0.19515877]), array([0.00809904, 0.00675699, 0.01133001, 0.00984479, 0.11777511]), array([0.00981162, 0.00779377, 0.01273725, 0.01077896, 0.15200956]), array([0.00991865, 0.00722175, 0.01071661, 0.00819202, 0.13893071]), array([0.00738547, 0.00518393, 0.01028362, 0.0086591 , 0.00947826]), array([0.00752819, 0.00693575, 0.01057227, 0.00894654, 0.12817808]), array([0.00863423, 0.00833005, 0.01169085, 0.01067117, 0.14391836]), array([0.00938348, 0.00750777, 0.01060836, 0.00768899, 0.26228779]), array([0.00670758, 0.00382539, 0.00598975, 0.00388043, 0.26119644]), array([0.00303269, 0.0013943 , 0.00548459, 0.00406008, 0.17425072]), array([0.00524476, 0.00539844, 0.0082269 , 0.00754528, 0.15534236]), array([0.00784929, 0.00493367, 0.00909288, 0.00657517, 0.12022559]), array([0.00635078, 0.0082228 , 0.00909288, 0.01167721, 0.2252378 ])]\n"
          ]
        }
      ]
    },
    {
      "cell_type": "code",
      "source": [
        "for window in test_data.take(2):\n",
        "    t = list(window.as_numpy_iterator())\n",
        "    print(len(t))\n",
        "    print(t)"
      ],
      "metadata": {
        "colab": {
          "base_uri": "https://localhost:8080/"
        },
        "id": "S9xdKAnRNM4m",
        "outputId": "fe1115d9-4afb-42c0-8d30-146771eaab82"
      },
      "execution_count": 11,
      "outputs": [
        {
          "output_type": "stream",
          "name": "stdout",
          "text": [
            "21\n",
            "[array([0.58523615, 0.5908977 , 0.58003172, 0.59499856, 0.17151705]), array([0.59301411, 0.60434017, 0.5794905 , 0.57584794, 0.35610332]), array([0.55754957, 0.56279716, 0.55004689, 0.54933168, 0.35273295]), array([0.55002138, 0.56830284, 0.55899542, 0.56923686, 0.21205878]), array([0.5672185 , 0.57212826, 0.56715018, 0.56524864, 0.13647445]), array([0.5641858 , 0.56608628, 0.56606768, 0.56909311, 0.10783931]), array([0.55886966, 0.56723034, 0.56736666, 0.57168006, 0.16883347]), array([0.56325817, 0.56701579, 0.56577901, 0.56172753, 0.16113527]), array([0.55451687, 0.55804223, 0.55441288, 0.54958322, 0.20177139]), array([0.54641787, 0.55039145, 0.5508046 , 0.55439781, 0.16728651]), array([0.54934348, 0.55132097, 0.5510572 , 0.54710405, 0.14850722]), array([0.54488366, 0.54774583, 0.54441797, 0.54609802, 0.17586703]), array([0.54003136, 0.55475312, 0.54694376, 0.55957172, 0.25577919]), array([0.55972597, 0.55847123, 0.55993361, 0.55960763, 0.13087804]), array([0.55879835, 0.5619749 , 0.56563465, 0.56449409, 0.06826083]), array([0.55612245, 0.55657642, 0.55408815, 0.56032627, 0.24696652]), array([0.55758523, 0.56572879, 0.56314498, 0.56801526, 0.22615769]), array([0.55890538, 0.55911478, 0.56116041, 0.56499711, 0.1569972 ]), array([0.55794204, 0.56236816, 0.56422742, 0.56093707, 0.17044786]), array([0.55655058, 0.55879303, 0.56253152, 0.56136821, 0.16606609]), array([0.55708573, 0.55936501, 0.56184599, 0.56111667, 0.165623  ])]\n",
            "21\n",
            "[array([0.59301411, 0.60434017, 0.5794905 , 0.57584794, 0.35610332]), array([0.55754957, 0.56279716, 0.55004689, 0.54933168, 0.35273295]), array([0.55002138, 0.56830284, 0.55899542, 0.56923686, 0.21205878]), array([0.5672185 , 0.57212826, 0.56715018, 0.56524864, 0.13647445]), array([0.5641858 , 0.56608628, 0.56606768, 0.56909311, 0.10783931]), array([0.55886966, 0.56723034, 0.56736666, 0.57168006, 0.16883347]), array([0.56325817, 0.56701579, 0.56577901, 0.56172753, 0.16113527]), array([0.55451687, 0.55804223, 0.55441288, 0.54958322, 0.20177139]), array([0.54641787, 0.55039145, 0.5508046 , 0.55439781, 0.16728651]), array([0.54934348, 0.55132097, 0.5510572 , 0.54710405, 0.14850722]), array([0.54488366, 0.54774583, 0.54441797, 0.54609802, 0.17586703]), array([0.54003136, 0.55475312, 0.54694376, 0.55957172, 0.25577919]), array([0.55972597, 0.55847123, 0.55993361, 0.55960763, 0.13087804]), array([0.55879835, 0.5619749 , 0.56563465, 0.56449409, 0.06826083]), array([0.55612245, 0.55657642, 0.55408815, 0.56032627, 0.24696652]), array([0.55758523, 0.56572879, 0.56314498, 0.56801526, 0.22615769]), array([0.55890538, 0.55911478, 0.56116041, 0.56499711, 0.1569972 ]), array([0.55794204, 0.56236816, 0.56422742, 0.56093707, 0.17044786]), array([0.55655058, 0.55879303, 0.56253152, 0.56136821, 0.16606609]), array([0.55708573, 0.55936501, 0.56184599, 0.56111667, 0.165623  ]), array([0.55565861, 0.56440596, 0.56148514, 0.56729662, 0.1527551 ])]\n"
          ]
        }
      ]
    },
    {
      "cell_type": "code",
      "source": [
        "def show_dataset(dataset, n):\n",
        "    dataset = dataset.prefetch(1)\n",
        "    for tensor in dataset.take(n):\n",
        "        print(tensor)\n",
        "train_data = train_data.flat_map(lambda window: window.batch(window_length))\n",
        "test_data = test_data.flat_map(lambda window: window.batch(window_length))\n",
        "\n",
        "show_dataset(train_data, 2)"
      ],
      "metadata": {
        "collapsed": true,
        "colab": {
          "base_uri": "https://localhost:8080/"
        },
        "id": "VaktwMgxGRG5",
        "outputId": "7dfa5fed-2835-4e3d-c54c-99fa4fbc6431"
      },
      "execution_count": 12,
      "outputs": [
        {
          "output_type": "stream",
          "name": "stdout",
          "text": [
            "tf.Tensor(\n",
            "[[5.53018034e-03 5.14818192e-03 9.02071110e-03 8.26386525e-03\n",
            "  2.33481190e-01]\n",
            " [8.27743299e-03 6.07771248e-03 1.03557872e-02 8.44352535e-03\n",
            "  1.49396291e-01]\n",
            " [6.31511323e-03 5.39844111e-03 6.92791334e-03 7.36561863e-03\n",
            "  4.06552908e-01]\n",
            " [8.02768631e-03 5.04093513e-03 1.26290677e-03 2.08393933e-03\n",
            "  4.85441139e-01]\n",
            " [0.00000000e+00 1.42994526e-04 2.63404403e-03 3.23369140e-03\n",
            "  3.01899987e-01]\n",
            " [2.81860986e-03 0.00000000e+00 0.00000000e+00 0.00000000e+00\n",
            "  3.26564660e-01]\n",
            " [3.56793194e-04 1.46580383e-03 3.75261943e-03 2.69473984e-03\n",
            "  2.74315740e-01]\n",
            " [2.53317745e-03 2.07356900e-03 5.52068241e-03 5.49728005e-03\n",
            "  1.91750830e-01]\n",
            " [7.77793607e-03 6.68549195e-03 9.70629236e-03 9.05432586e-03\n",
            "  2.37988181e-01]\n",
            " [9.09804092e-03 7.36475975e-03 1.08970190e-02 8.01235619e-03\n",
            "  1.95158766e-01]\n",
            " [8.09904352e-03 6.75699458e-03 1.13300095e-02 9.84479006e-03\n",
            "  1.17775113e-01]\n",
            " [9.81161660e-03 7.79377193e-03 1.27372513e-02 1.07789594e-02\n",
            "  1.52009555e-01]\n",
            " [9.91864529e-03 7.22175092e-03 1.07166084e-02 8.19201989e-03\n",
            "  1.38930709e-01]\n",
            " [7.38546784e-03 5.18392965e-03 1.02836179e-02 8.65909735e-03\n",
            "  9.47826213e-03]\n",
            " [7.52818583e-03 6.93574757e-03 1.05722734e-02 8.94654345e-03\n",
            "  1.28178083e-01]\n",
            " [8.63422975e-03 8.33004877e-03 1.16908452e-02 1.06711734e-02\n",
            "  1.43918356e-01]\n",
            " [9.38347690e-03 7.50776857e-03 1.06083635e-02 7.68898741e-03\n",
            "  2.62287787e-01]\n",
            " [6.70758146e-03 3.82539049e-03 5.98975217e-03 3.88043255e-03\n",
            "  2.61196438e-01]\n",
            " [3.03268863e-03 1.39429763e-03 5.48459235e-03 4.06007828e-03\n",
            "  1.74250721e-01]\n",
            " [5.24475863e-03 5.39844111e-03 8.22689574e-03 7.54527873e-03\n",
            "  1.55342359e-01]\n",
            " [7.84929328e-03 4.93367046e-03 9.09287679e-03 6.57517239e-03\n",
            "  1.20225590e-01]], shape=(21, 5), dtype=float64)\n",
            "tf.Tensor(\n",
            "[[8.27743299e-03 6.07771248e-03 1.03557872e-02 8.44352535e-03\n",
            "  1.49396291e-01]\n",
            " [6.31511323e-03 5.39844111e-03 6.92791334e-03 7.36561863e-03\n",
            "  4.06552908e-01]\n",
            " [8.02768631e-03 5.04093513e-03 1.26290677e-03 2.08393933e-03\n",
            "  4.85441139e-01]\n",
            " [0.00000000e+00 1.42994526e-04 2.63404403e-03 3.23369140e-03\n",
            "  3.01899987e-01]\n",
            " [2.81860986e-03 0.00000000e+00 0.00000000e+00 0.00000000e+00\n",
            "  3.26564660e-01]\n",
            " [3.56793194e-04 1.46580383e-03 3.75261943e-03 2.69473984e-03\n",
            "  2.74315740e-01]\n",
            " [2.53317745e-03 2.07356900e-03 5.52068241e-03 5.49728005e-03\n",
            "  1.91750830e-01]\n",
            " [7.77793607e-03 6.68549195e-03 9.70629236e-03 9.05432586e-03\n",
            "  2.37988181e-01]\n",
            " [9.09804092e-03 7.36475975e-03 1.08970190e-02 8.01235619e-03\n",
            "  1.95158766e-01]\n",
            " [8.09904352e-03 6.75699458e-03 1.13300095e-02 9.84479006e-03\n",
            "  1.17775113e-01]\n",
            " [9.81161660e-03 7.79377193e-03 1.27372513e-02 1.07789594e-02\n",
            "  1.52009555e-01]\n",
            " [9.91864529e-03 7.22175092e-03 1.07166084e-02 8.19201989e-03\n",
            "  1.38930709e-01]\n",
            " [7.38546784e-03 5.18392965e-03 1.02836179e-02 8.65909735e-03\n",
            "  9.47826213e-03]\n",
            " [7.52818583e-03 6.93574757e-03 1.05722734e-02 8.94654345e-03\n",
            "  1.28178083e-01]\n",
            " [8.63422975e-03 8.33004877e-03 1.16908452e-02 1.06711734e-02\n",
            "  1.43918356e-01]\n",
            " [9.38347690e-03 7.50776857e-03 1.06083635e-02 7.68898741e-03\n",
            "  2.62287787e-01]\n",
            " [6.70758146e-03 3.82539049e-03 5.98975217e-03 3.88043255e-03\n",
            "  2.61196438e-01]\n",
            " [3.03268863e-03 1.39429763e-03 5.48459235e-03 4.06007828e-03\n",
            "  1.74250721e-01]\n",
            " [5.24475863e-03 5.39844111e-03 8.22689574e-03 7.54527873e-03\n",
            "  1.55342359e-01]\n",
            " [7.84929328e-03 4.93367046e-03 9.09287679e-03 6.57517239e-03\n",
            "  1.20225590e-01]\n",
            " [6.35078470e-03 8.22279841e-03 9.09287679e-03 1.16772060e-02\n",
            "  2.25237799e-01]], shape=(21, 5), dtype=float64)\n"
          ]
        }
      ]
    },
    {
      "cell_type": "code",
      "source": [
        "batch_size = 32\n",
        "train_data = train_data.batch(batch_size)\n",
        "test_data = test_data.batch(batch_size)\n",
        "show_dataset(train_data, 2)"
      ],
      "metadata": {
        "collapsed": true,
        "colab": {
          "base_uri": "https://localhost:8080/"
        },
        "id": "W21FErl5GgAe",
        "outputId": "251313bf-0e4d-4c6e-c62f-ff3dde7d19b8"
      },
      "execution_count": 13,
      "outputs": [
        {
          "output_type": "stream",
          "name": "stdout",
          "text": [
            "tf.Tensor(\n",
            "[[[5.53018034e-03 5.14818192e-03 9.02071110e-03 8.26386525e-03\n",
            "   2.33481190e-01]\n",
            "  [8.27743299e-03 6.07771248e-03 1.03557872e-02 8.44352535e-03\n",
            "   1.49396291e-01]\n",
            "  [6.31511323e-03 5.39844111e-03 6.92791334e-03 7.36561863e-03\n",
            "   4.06552908e-01]\n",
            "  ...\n",
            "  [3.03268863e-03 1.39429763e-03 5.48459235e-03 4.06007828e-03\n",
            "   1.74250721e-01]\n",
            "  [5.24475863e-03 5.39844111e-03 8.22689574e-03 7.54527873e-03\n",
            "   1.55342359e-01]\n",
            "  [7.84929328e-03 4.93367046e-03 9.09287679e-03 6.57517239e-03\n",
            "   1.20225590e-01]]\n",
            "\n",
            " [[8.27743299e-03 6.07771248e-03 1.03557872e-02 8.44352535e-03\n",
            "   1.49396291e-01]\n",
            "  [6.31511323e-03 5.39844111e-03 6.92791334e-03 7.36561863e-03\n",
            "   4.06552908e-01]\n",
            "  [8.02768631e-03 5.04093513e-03 1.26290677e-03 2.08393933e-03\n",
            "   4.85441139e-01]\n",
            "  ...\n",
            "  [5.24475863e-03 5.39844111e-03 8.22689574e-03 7.54527873e-03\n",
            "   1.55342359e-01]\n",
            "  [7.84929328e-03 4.93367046e-03 9.09287679e-03 6.57517239e-03\n",
            "   1.20225590e-01]\n",
            "  [6.35078470e-03 8.22279841e-03 9.09287679e-03 1.16772060e-02\n",
            "   2.25237799e-01]]\n",
            "\n",
            " [[6.31511323e-03 5.39844111e-03 6.92791334e-03 7.36561863e-03\n",
            "   4.06552908e-01]\n",
            "  [8.02768631e-03 5.04093513e-03 1.26290677e-03 2.08393933e-03\n",
            "   4.85441139e-01]\n",
            "  [0.00000000e+00 1.42994526e-04 2.63404403e-03 3.23369140e-03\n",
            "   3.01899987e-01]\n",
            "  ...\n",
            "  [7.84929328e-03 4.93367046e-03 9.09287679e-03 6.57517239e-03\n",
            "   1.20225590e-01]\n",
            "  [6.35078470e-03 8.22279841e-03 9.09287679e-03 1.16772060e-02\n",
            "   2.25237799e-01]\n",
            "  [1.09533284e-02 8.93782824e-03 1.28454962e-02 1.03837273e-02\n",
            "   1.32880611e-01]]\n",
            "\n",
            " ...\n",
            "\n",
            " [[1.54488399e-02 1.67673586e-02 1.85465784e-02 1.97614255e-02\n",
            "   2.59232396e-01]\n",
            "  [1.94805152e-02 1.68746090e-02 2.07476355e-02 1.94739938e-02\n",
            "   1.79189243e-01]\n",
            "  [1.85528750e-02 1.65171030e-02 2.10723811e-02 1.94739938e-02\n",
            "   9.31518593e-02]\n",
            "  ...\n",
            "  [1.58769796e-02 1.29419717e-02 1.71393511e-02 1.58450703e-02\n",
            "   1.27517302e-01]\n",
            "  [1.58412939e-02 1.29419717e-02 1.74640967e-02 1.57372843e-02\n",
            "   1.17943679e-01]\n",
            "  [1.43071281e-02 1.39430049e-02 1.77527667e-02 1.50186834e-02\n",
            "   1.06207587e-01]]\n",
            "\n",
            " [[1.94805152e-02 1.68746090e-02 2.07476355e-02 1.94739938e-02\n",
            "   1.79189243e-01]\n",
            "  [1.85528750e-02 1.65171030e-02 2.10723811e-02 1.94739938e-02\n",
            "   9.31518593e-02]\n",
            "  [2.00156979e-02 1.79471448e-02 2.21187872e-02 1.95099164e-02\n",
            "   1.42087240e-01]\n",
            "  ...\n",
            "  [1.58412939e-02 1.29419717e-02 1.74640967e-02 1.57372843e-02\n",
            "   1.17943679e-01]\n",
            "  [1.43071281e-02 1.39430049e-02 1.77527667e-02 1.50186834e-02\n",
            "   1.06207587e-01]\n",
            "  [1.58412939e-02 1.33709839e-02 1.83661678e-02 1.65996082e-02\n",
            "   2.19501717e-01]]\n",
            "\n",
            " [[1.85528750e-02 1.65171030e-02 2.10723811e-02 1.94739938e-02\n",
            "   9.31518593e-02]\n",
            "  [2.00156979e-02 1.79471448e-02 2.21187872e-02 1.95099164e-02\n",
            "   1.42087240e-01]\n",
            "  [1.86242358e-02 1.59450820e-02 1.99177301e-02 1.83961014e-02\n",
            "   4.79519152e-02]\n",
            "  ...\n",
            "  [1.43071281e-02 1.39430049e-02 1.77527667e-02 1.50186834e-02\n",
            "   1.06207587e-01]\n",
            "  [1.58412939e-02 1.33709839e-02 1.83661678e-02 1.65996082e-02\n",
            "   2.19501717e-01]\n",
            "  [1.59483404e-02 1.44435197e-02 1.90878283e-02 1.73900544e-02\n",
            "   1.50958663e-01]]], shape=(32, 21, 5), dtype=float64)\n",
            "tf.Tensor(\n",
            "[[[0.0200157  0.01794714 0.02211879 0.01950992 0.14208724]\n",
            "  [0.01862424 0.01594508 0.01991773 0.0183961  0.04795192]\n",
            "  [0.01776794 0.0178399  0.02139713 0.01853981 0.04178141]\n",
            "  ...\n",
            "  [0.01584129 0.01337098 0.01836617 0.01659961 0.21950172]\n",
            "  [0.01594834 0.01444352 0.01908783 0.01739005 0.15095866]\n",
            "  [0.01773227 0.01666011 0.02042289 0.01940213 0.16613255]]\n",
            "\n",
            " [[0.01862424 0.01594508 0.01991773 0.0183961  0.04795192]\n",
            "  [0.01776794 0.0178399  0.02139713 0.01853981 0.04178141]\n",
            "  [0.01844585 0.01544457 0.02002599 0.01749785 0.06961995]\n",
            "  ...\n",
            "  [0.01594834 0.01444352 0.01908783 0.01739005 0.15095866]\n",
            "  [0.01773227 0.01666011 0.02042289 0.01940213 0.16613255]\n",
            "  [0.02040817 0.01794714 0.02226312 0.01997701 0.15649824]]\n",
            "\n",
            " [[0.01776794 0.0178399  0.02139713 0.01853981 0.04178141]\n",
            "  [0.01844585 0.01544457 0.02002599 0.01749785 0.06961995]\n",
            "  [0.0165192  0.01472954 0.01966515 0.01717449 0.02721147]\n",
            "  ...\n",
            "  [0.01773227 0.01666011 0.02042289 0.01940213 0.16613255]\n",
            "  [0.02040817 0.01794714 0.02226312 0.01997701 0.15649824]\n",
            "  [0.02101471 0.01952021 0.02262394 0.02209686 0.34800826]]\n",
            "\n",
            " ...\n",
            "\n",
            " [[0.01880263 0.01633835 0.02114455 0.01983329 0.11916025]\n",
            "  [0.01965892 0.01680311 0.0214693  0.01907876 0.1237915 ]\n",
            "  [0.01905238 0.01691037 0.02143322 0.01875539 0.1027852 ]\n",
            "  ...\n",
            "  [0.02055088 0.01859067 0.02287652 0.02202501 0.10316568]\n",
            "  [0.02047952 0.01959171 0.0235621  0.02209686 0.10908382]\n",
            "  [0.02126446 0.02037824 0.02493326 0.02256397 0.10687511]]\n",
            "\n",
            " [[0.01965892 0.01680311 0.0214693  0.01907876 0.1237915 ]\n",
            "  [0.01905238 0.01691037 0.02143322 0.01875539 0.1027852 ]\n",
            "  [0.01887398 0.0191627  0.02179404 0.02134234 0.14659327]\n",
            "  ...\n",
            "  [0.02047952 0.01959171 0.0235621  0.02209686 0.10908382]\n",
            "  [0.02126446 0.02037824 0.02493326 0.02256397 0.10687511]\n",
            "  [0.02151421 0.02145079 0.02514975 0.02468381 0.13567496]]\n",
            "\n",
            " [[0.01905238 0.01691037 0.02143322 0.01875539 0.1027852 ]\n",
            "  [0.01887398 0.0191627  0.02179404 0.02134234 0.14659327]\n",
            "  [0.02147852 0.01866219 0.02417551 0.02112676 0.10350089]\n",
            "  ...\n",
            "  [0.02126446 0.02037824 0.02493326 0.02256397 0.10687511]\n",
            "  [0.02151421 0.02145079 0.02514975 0.02468381 0.13567496]\n",
            "  [0.02483232 0.02187979 0.02597966 0.02374965 0.11964572]]], shape=(32, 21, 5), dtype=float64)\n"
          ]
        }
      ]
    },
    {
      "cell_type": "code",
      "source": [
        "train_data = train_data.map(lambda window: (window[:, :-1, :], window[:, -1, :]))\n",
        "test_data = test_data.map(lambda window: (window[:, :-1, :], window[:, -1, :]))\n",
        "show_dataset(train_data, 2)"
      ],
      "metadata": {
        "collapsed": true,
        "colab": {
          "base_uri": "https://localhost:8080/"
        },
        "id": "_hIVtHEdHPw3",
        "outputId": "80823456-bfaf-4d81-f5c3-632e357cf29a"
      },
      "execution_count": 14,
      "outputs": [
        {
          "output_type": "stream",
          "name": "stdout",
          "text": [
            "(<tf.Tensor: shape=(32, 20, 5), dtype=float64, numpy=\n",
            "array([[[5.53018034e-03, 5.14818192e-03, 9.02071110e-03, 8.26386525e-03,\n",
            "         2.33481190e-01],\n",
            "        [8.27743299e-03, 6.07771248e-03, 1.03557872e-02, 8.44352535e-03,\n",
            "         1.49396291e-01],\n",
            "        [6.31511323e-03, 5.39844111e-03, 6.92791334e-03, 7.36561863e-03,\n",
            "         4.06552908e-01],\n",
            "        ...,\n",
            "        [6.70758146e-03, 3.82539049e-03, 5.98975217e-03, 3.88043255e-03,\n",
            "         2.61196438e-01],\n",
            "        [3.03268863e-03, 1.39429763e-03, 5.48459235e-03, 4.06007828e-03,\n",
            "         1.74250721e-01],\n",
            "        [5.24475863e-03, 5.39844111e-03, 8.22689574e-03, 7.54527873e-03,\n",
            "         1.55342359e-01]],\n",
            "\n",
            "       [[8.27743299e-03, 6.07771248e-03, 1.03557872e-02, 8.44352535e-03,\n",
            "         1.49396291e-01],\n",
            "        [6.31511323e-03, 5.39844111e-03, 6.92791334e-03, 7.36561863e-03,\n",
            "         4.06552908e-01],\n",
            "        [8.02768631e-03, 5.04093513e-03, 1.26290677e-03, 2.08393933e-03,\n",
            "         4.85441139e-01],\n",
            "        ...,\n",
            "        [3.03268863e-03, 1.39429763e-03, 5.48459235e-03, 4.06007828e-03,\n",
            "         1.74250721e-01],\n",
            "        [5.24475863e-03, 5.39844111e-03, 8.22689574e-03, 7.54527873e-03,\n",
            "         1.55342359e-01],\n",
            "        [7.84929328e-03, 4.93367046e-03, 9.09287679e-03, 6.57517239e-03,\n",
            "         1.20225590e-01]],\n",
            "\n",
            "       [[6.31511323e-03, 5.39844111e-03, 6.92791334e-03, 7.36561863e-03,\n",
            "         4.06552908e-01],\n",
            "        [8.02768631e-03, 5.04093513e-03, 1.26290677e-03, 2.08393933e-03,\n",
            "         4.85441139e-01],\n",
            "        [0.00000000e+00, 1.42994526e-04, 2.63404403e-03, 3.23369140e-03,\n",
            "         3.01899987e-01],\n",
            "        ...,\n",
            "        [5.24475863e-03, 5.39844111e-03, 8.22689574e-03, 7.54527873e-03,\n",
            "         1.55342359e-01],\n",
            "        [7.84929328e-03, 4.93367046e-03, 9.09287679e-03, 6.57517239e-03,\n",
            "         1.20225590e-01],\n",
            "        [6.35078470e-03, 8.22279841e-03, 9.09287679e-03, 1.16772060e-02,\n",
            "         2.25237799e-01]],\n",
            "\n",
            "       ...,\n",
            "\n",
            "       [[1.54488399e-02, 1.67673586e-02, 1.85465784e-02, 1.97614255e-02,\n",
            "         2.59232396e-01],\n",
            "        [1.94805152e-02, 1.68746090e-02, 2.07476355e-02, 1.94739938e-02,\n",
            "         1.79189243e-01],\n",
            "        [1.85528750e-02, 1.65171030e-02, 2.10723811e-02, 1.94739938e-02,\n",
            "         9.31518593e-02],\n",
            "        ...,\n",
            "        [1.56629044e-02, 1.35497369e-02, 1.82939985e-02, 1.64558851e-02,\n",
            "         1.15556776e-01],\n",
            "        [1.58769796e-02, 1.29419717e-02, 1.71393511e-02, 1.58450703e-02,\n",
            "         1.27517302e-01],\n",
            "        [1.58412939e-02, 1.29419717e-02, 1.74640967e-02, 1.57372843e-02,\n",
            "         1.17943679e-01]],\n",
            "\n",
            "       [[1.94805152e-02, 1.68746090e-02, 2.07476355e-02, 1.94739938e-02,\n",
            "         1.79189243e-01],\n",
            "        [1.85528750e-02, 1.65171030e-02, 2.10723811e-02, 1.94739938e-02,\n",
            "         9.31518593e-02],\n",
            "        [2.00156979e-02, 1.79471448e-02, 2.21187872e-02, 1.95099164e-02,\n",
            "         1.42087240e-01],\n",
            "        ...,\n",
            "        [1.58769796e-02, 1.29419717e-02, 1.71393511e-02, 1.58450703e-02,\n",
            "         1.27517302e-01],\n",
            "        [1.58412939e-02, 1.29419717e-02, 1.74640967e-02, 1.57372843e-02,\n",
            "         1.17943679e-01],\n",
            "        [1.43071281e-02, 1.39430049e-02, 1.77527667e-02, 1.50186834e-02,\n",
            "         1.06207587e-01]],\n",
            "\n",
            "       [[1.85528750e-02, 1.65171030e-02, 2.10723811e-02, 1.94739938e-02,\n",
            "         9.31518593e-02],\n",
            "        [2.00156979e-02, 1.79471448e-02, 2.21187872e-02, 1.95099164e-02,\n",
            "         1.42087240e-01],\n",
            "        [1.86242358e-02, 1.59450820e-02, 1.99177301e-02, 1.83961014e-02,\n",
            "         4.79519152e-02],\n",
            "        ...,\n",
            "        [1.58412939e-02, 1.29419717e-02, 1.74640967e-02, 1.57372843e-02,\n",
            "         1.17943679e-01],\n",
            "        [1.43071281e-02, 1.39430049e-02, 1.77527667e-02, 1.50186834e-02,\n",
            "         1.06207587e-01],\n",
            "        [1.58412939e-02, 1.33709839e-02, 1.83661678e-02, 1.65996082e-02,\n",
            "         2.19501717e-01]]])>, <tf.Tensor: shape=(32, 5), dtype=float64, numpy=\n",
            "array([[0.00784929, 0.00493367, 0.00909288, 0.00657517, 0.12022559],\n",
            "       [0.00635078, 0.0082228 , 0.00909288, 0.01167721, 0.2252378 ],\n",
            "       [0.01095333, 0.00893783, 0.0128455 , 0.01038373, 0.13288061],\n",
            "       [0.01052519, 0.01040363, 0.0138919 , 0.01383301, 0.19191362],\n",
            "       [0.01280862, 0.01151191, 0.01602079, 0.01455159, 0.12302958],\n",
            "       [0.01523476, 0.01551606, 0.0178971 , 0.01746192, 0.27253182],\n",
            "       [0.01701869, 0.01562332, 0.01894349, 0.01638402, 0.22084254],\n",
            "       [0.01594834, 0.01455078, 0.01811359, 0.01602473, 0.19500079],\n",
            "       [0.01684031, 0.01383575, 0.0174641 , 0.01501868, 0.3373982 ],\n",
            "       [0.01544884, 0.01676736, 0.01854658, 0.01976143, 0.2592324 ],\n",
            "       [0.01948052, 0.01687461, 0.02074764, 0.01947399, 0.17918924],\n",
            "       [0.01855288, 0.0165171 , 0.02107238, 0.01947399, 0.09315186],\n",
            "       [0.0200157 , 0.01794714, 0.02211879, 0.01950992, 0.14208724],\n",
            "       [0.01862424, 0.01594508, 0.01991773, 0.0183961 , 0.04795192],\n",
            "       [0.01776794, 0.0178399 , 0.02139713, 0.01853981, 0.04178141],\n",
            "       [0.01844585, 0.01544457, 0.02002599, 0.01749785, 0.06961995],\n",
            "       [0.0165192 , 0.01472954, 0.01966515, 0.01717449, 0.02721147],\n",
            "       [0.01687598, 0.01397876, 0.01713935, 0.01444381, 0.17486912],\n",
            "       [0.01626945, 0.01344249, 0.01750019, 0.01602473, 0.12780724],\n",
            "       [0.01516341, 0.01312072, 0.0174641 , 0.01501868, 0.13402879],\n",
            "       [0.01412872, 0.01279896, 0.01713935, 0.01501868, 0.16808889],\n",
            "       [0.01452119, 0.01455078, 0.01717544, 0.0169589 , 0.12037875],\n",
            "       [0.0161624 , 0.01430053, 0.01897958, 0.0162403 , 0.12480771],\n",
            "       [0.01605537, 0.01426477, 0.01804142, 0.01616844, 0.10756864],\n",
            "       [0.01562723, 0.01483679, 0.01858267, 0.01821644, 0.13573661],\n",
            "       [0.01723277, 0.01544457, 0.0168507 , 0.01613252, 0.13044747],\n",
            "       [0.0156629 , 0.01354974, 0.018294  , 0.01645589, 0.11555678],\n",
            "       [0.01587698, 0.01294197, 0.01713935, 0.01584507, 0.1275173 ],\n",
            "       [0.01584129, 0.01294197, 0.0174641 , 0.01573728, 0.11794368],\n",
            "       [0.01430713, 0.013943  , 0.01775277, 0.01501868, 0.10620759],\n",
            "       [0.01584129, 0.01337098, 0.01836617, 0.01659961, 0.21950172],\n",
            "       [0.01594834, 0.01444352, 0.01908783, 0.01739005, 0.15095866]])>)\n",
            "(<tf.Tensor: shape=(32, 20, 5), dtype=float64, numpy=\n",
            "array([[[0.0200157 , 0.01794714, 0.02211879, 0.01950992, 0.14208724],\n",
            "        [0.01862424, 0.01594508, 0.01991773, 0.0183961 , 0.04795192],\n",
            "        [0.01776794, 0.0178399 , 0.02139713, 0.01853981, 0.04178141],\n",
            "        ...,\n",
            "        [0.01430713, 0.013943  , 0.01775277, 0.01501868, 0.10620759],\n",
            "        [0.01584129, 0.01337098, 0.01836617, 0.01659961, 0.21950172],\n",
            "        [0.01594834, 0.01444352, 0.01908783, 0.01739005, 0.15095866]],\n",
            "\n",
            "       [[0.01862424, 0.01594508, 0.01991773, 0.0183961 , 0.04795192],\n",
            "        [0.01776794, 0.0178399 , 0.02139713, 0.01853981, 0.04178141],\n",
            "        [0.01844585, 0.01544457, 0.02002599, 0.01749785, 0.06961995],\n",
            "        ...,\n",
            "        [0.01584129, 0.01337098, 0.01836617, 0.01659961, 0.21950172],\n",
            "        [0.01594834, 0.01444352, 0.01908783, 0.01739005, 0.15095866],\n",
            "        [0.01773227, 0.01666011, 0.02042289, 0.01940213, 0.16613255]],\n",
            "\n",
            "       [[0.01776794, 0.0178399 , 0.02139713, 0.01853981, 0.04178141],\n",
            "        [0.01844585, 0.01544457, 0.02002599, 0.01749785, 0.06961995],\n",
            "        [0.0165192 , 0.01472954, 0.01966515, 0.01717449, 0.02721147],\n",
            "        ...,\n",
            "        [0.01594834, 0.01444352, 0.01908783, 0.01739005, 0.15095866],\n",
            "        [0.01773227, 0.01666011, 0.02042289, 0.01940213, 0.16613255],\n",
            "        [0.02040817, 0.01794714, 0.02226312, 0.01997701, 0.15649824]],\n",
            "\n",
            "       ...,\n",
            "\n",
            "       [[0.01880263, 0.01633835, 0.02114455, 0.01983329, 0.11916025],\n",
            "        [0.01965892, 0.01680311, 0.0214693 , 0.01907876, 0.1237915 ],\n",
            "        [0.01905238, 0.01691037, 0.02143322, 0.01875539, 0.1027852 ],\n",
            "        ...,\n",
            "        [0.02304839, 0.02027099, 0.02381468, 0.0211627 , 0.16484855],\n",
            "        [0.02055088, 0.01859067, 0.02287652, 0.02202501, 0.10316568],\n",
            "        [0.02047952, 0.01959171, 0.0235621 , 0.02209686, 0.10908382]],\n",
            "\n",
            "       [[0.01965892, 0.01680311, 0.0214693 , 0.01907876, 0.1237915 ],\n",
            "        [0.01905238, 0.01691037, 0.02143322, 0.01875539, 0.1027852 ],\n",
            "        [0.01887398, 0.0191627 , 0.02179404, 0.02134234, 0.14659327],\n",
            "        ...,\n",
            "        [0.02055088, 0.01859067, 0.02287652, 0.02202501, 0.10316568],\n",
            "        [0.02047952, 0.01959171, 0.0235621 , 0.02209686, 0.10908382],\n",
            "        [0.02126446, 0.02037824, 0.02493326, 0.02256397, 0.10687511]],\n",
            "\n",
            "       [[0.01905238, 0.01691037, 0.02143322, 0.01875539, 0.1027852 ],\n",
            "        [0.01887398, 0.0191627 , 0.02179404, 0.02134234, 0.14659327],\n",
            "        [0.02147852, 0.01866219, 0.02417551, 0.02112676, 0.10350089],\n",
            "        ...,\n",
            "        [0.02047952, 0.01959171, 0.0235621 , 0.02209686, 0.10908382],\n",
            "        [0.02126446, 0.02037824, 0.02493326, 0.02256397, 0.10687511],\n",
            "        [0.02151421, 0.02145079, 0.02514975, 0.02468381, 0.13567496]]])>, <tf.Tensor: shape=(32, 5), dtype=float64, numpy=\n",
            "array([[0.01773227, 0.01666011, 0.02042289, 0.01940213, 0.16613255],\n",
            "       [0.02040817, 0.01794714, 0.02226312, 0.01997701, 0.15649824],\n",
            "       [0.02101471, 0.01952021, 0.02262394, 0.02209686, 0.34800826],\n",
            "       [0.02554588, 0.02441815, 0.02745904, 0.02752228, 0.36017781],\n",
            "       [0.02661625, 0.02398913, 0.02713431, 0.02518683, 0.23335212],\n",
            "       [0.02365492, 0.02170105, 0.02518584, 0.02346221, 0.17188886],\n",
            "       [0.02187099, 0.01980623, 0.02233529, 0.01961772, 0.31060477],\n",
            "       [0.01791066, 0.01548031, 0.01973732, 0.01814458, 0.36989689],\n",
            "       [0.01880263, 0.0165171 , 0.02089197, 0.01997701, 0.22035226],\n",
            "       [0.01880263, 0.01633835, 0.02114455, 0.01983329, 0.11916025],\n",
            "       [0.01965892, 0.01680311, 0.0214693 , 0.01907876, 0.1237915 ],\n",
            "       [0.01905238, 0.01691037, 0.02143322, 0.01875539, 0.1027852 ],\n",
            "       [0.01887398, 0.0191627 , 0.02179404, 0.02134234, 0.14659327],\n",
            "       [0.02147852, 0.01866219, 0.02417551, 0.02112676, 0.10350089],\n",
            "       [0.02144283, 0.02066426, 0.02471674, 0.02371372, 0.14924892],\n",
            "       [0.02204939, 0.02016374, 0.02431983, 0.02317477, 0.15106269],\n",
            "       [0.02237049, 0.01962746, 0.02482501, 0.02303104, 0.09227435],\n",
            "       [0.02322677, 0.02202279, 0.02583533, 0.02299511, 0.12638357],\n",
            "       [0.02226345, 0.02005649, 0.02533017, 0.02335443, 0.13315032],\n",
            "       [0.02276295, 0.020986  , 0.02587139, 0.02288732, 0.12743928],\n",
            "       [0.02176396, 0.01898394, 0.0244281 , 0.02242024, 0.11430842],\n",
            "       [0.02208505, 0.0201995 , 0.02493326, 0.02335443, 0.123752  ],\n",
            "       [0.02247752, 0.02044975, 0.02475283, 0.02335443, 0.13842886],\n",
            "       [0.0225132 , 0.01952021, 0.0244281 , 0.02195316, 0.08135412],\n",
            "       [0.02087199, 0.01830465, 0.02338168, 0.0210549 , 0.15232839],\n",
            "       [0.02105037, 0.02112901, 0.02431983, 0.02450418, 0.18794604],\n",
            "       [0.02304839, 0.02027099, 0.02381468, 0.0211627 , 0.16484855],\n",
            "       [0.02055088, 0.01859067, 0.02287652, 0.02202501, 0.10316568],\n",
            "       [0.02047952, 0.01959171, 0.0235621 , 0.02209686, 0.10908382],\n",
            "       [0.02126446, 0.02037824, 0.02493326, 0.02256397, 0.10687511],\n",
            "       [0.02151421, 0.02145079, 0.02514975, 0.02468381, 0.13567496],\n",
            "       [0.02483232, 0.02187979, 0.02597966, 0.02374965, 0.11964572]])>)\n"
          ]
        }
      ]
    },
    {
      "cell_type": "code",
      "source": [
        "# Shape your input as (samples, timesteps, features) .\n",
        "train_data = train_data.prefetch(1)\n",
        "for X_batch, Y_batch in train_data.take(1):\n",
        "    print(X_batch.shape, Y_batch.shape)"
      ],
      "metadata": {
        "colab": {
          "base_uri": "https://localhost:8080/"
        },
        "id": "v_3MIsOxIAIJ",
        "outputId": "2ea1e71f-49c9-4784-c483-7c37ec403a34"
      },
      "execution_count": 15,
      "outputs": [
        {
          "output_type": "stream",
          "name": "stdout",
          "text": [
            "(32, 20, 5) (32, 5)\n"
          ]
        }
      ]
    },
    {
      "cell_type": "code",
      "source": [
        "test_data = test_data.prefetch(1)\n",
        "for X_batch, Y_batch in test_data.take(1):\n",
        "    print(X_batch.shape, Y_batch.shape)"
      ],
      "metadata": {
        "colab": {
          "base_uri": "https://localhost:8080/"
        },
        "id": "8CTxf6kRNXwt",
        "outputId": "4313c890-632f-4b4b-cfe9-79b8f7229468"
      },
      "execution_count": 16,
      "outputs": [
        {
          "output_type": "stream",
          "name": "stdout",
          "text": [
            "(32, 20, 5) (32, 5)\n"
          ]
        }
      ]
    },
    {
      "cell_type": "markdown",
      "source": [
        "## Modelling"
      ],
      "metadata": {
        "id": "IkdgbKAJKYfG"
      }
    },
    {
      "cell_type": "code",
      "source": [
        "from tensorflow.keras.layers import BatchNormalization, Layer\n",
        "from tensorflow.keras import activations\n",
        "\n",
        "class BatchNormSimpleRNN(Layer):\n",
        "    def __init__(self, units, return_sequences=False, dropout=0.2, recurrent_dropout=0.2, **kwargs):\n",
        "        super().__init__(**kwargs)\n",
        "        self.simple_rnn = SimpleRNN(units, activation=None, return_sequences=return_sequences, **kwargs)\n",
        "        self.batch_norm = BatchNormalization()\n",
        "        self.activation = activations.tanh  # or any other activation you want\n",
        "\n",
        "    def call(self, inputs, training=None):\n",
        "        x = self.simple_rnn(inputs)\n",
        "        x = self.batch_norm(x, training=training)\n",
        "        x = self.activation(x)\n",
        "        return x"
      ],
      "metadata": {
        "id": "UlL_rj99Qj7o"
      },
      "execution_count": 17,
      "outputs": []
    },
    {
      "cell_type": "code",
      "source": [
        "from tensorflow.keras.models import Sequential\n",
        "from tensorflow.keras.layers import Dense, SimpleRNN, LSTM, GRU, Input\n",
        "from typing import Tuple, List\n",
        "\n",
        "def create_model(kind: str = \"simple\", input_shape: Tuple[int, int, int] = (n_steps, 5), hidden_units: List = [128, 64]):\n",
        "  model = tf.keras.models.Sequential()\n",
        "  model.add(Input(shape=input_shape))\n",
        "\n",
        "  if kind == \"simple\":\n",
        "    model.add(BatchNormSimpleRNN(hidden_units[0], return_sequences=(len(hidden_units) > 1), dropout=0.2, recurrent_dropout=0.2))\n",
        "\n",
        "    for units in hidden_units[1:-1]:\n",
        "      model.add(BatchNormSimpleRNN(units, return_sequences=True, dropout=0.2, recurrent_dropout=0.2))\n",
        "\n",
        "    if len(hidden_units) > 1:\n",
        "      model.add(BatchNormSimpleRNN(hidden_units[-1], return_sequences=False, dropout=0.2, recurrent_dropout=0.2))\n",
        "  elif kind == \"lstm\":\n",
        "    model.add(LSTM(hidden_units[0], return_sequences=(len(hidden_units) > 1), dropout=0.2, recurrent_dropout=0.2))\n",
        "\n",
        "    for units in hidden_units[1:-1]:\n",
        "      model.add(LSTM(units, return_sequences=True, dropout=0.2, recurrent_dropout=0.2))\n",
        "\n",
        "    if len(hidden_units) > 1:\n",
        "      model.add(LSTM(hidden_units[-1], return_sequences=False, dropout=0.2, recurrent_dropout=0.2))\n",
        "  elif kind == \"gru\":\n",
        "    model.add(GRU(hidden_units[0], return_sequences=(len(hidden_units) > 1), dropout=0.2, recurrent_dropout=0.2))\n",
        "\n",
        "    for units in hidden_units[1:-1]:\n",
        "      model.add(GRU(units, return_sequences=True, dropout=0.2, recurrent_dropout=0.2))\n",
        "\n",
        "    if len(hidden_units) > 1:\n",
        "      model.add(GRU(hidden_units[-1], return_sequences=False, dropout=0.2, recurrent_dropout=0.2))\n",
        "  else:\n",
        "    assert False, \"Unsupported kind: \" + kind\n",
        "\n",
        "  model.add(Dense(input_shape[1]))\n",
        "  model.compile(loss=\"mse\", optimizer=\"adam\", metrics=[\"mae\"])\n",
        "  return model"
      ],
      "metadata": {
        "id": "I7UEpXBUKsMD"
      },
      "execution_count": 18,
      "outputs": []
    },
    {
      "cell_type": "code",
      "source": [
        "from tensorflow.keras.callbacks import EarlyStopping\n",
        "\n",
        "early_stopping = EarlyStopping(\n",
        "    monitor='val_mae',\n",
        "    patience=3,\n",
        "    restore_best_weights=True\n",
        ")\n",
        "\n",
        "epochs = 20"
      ],
      "metadata": {
        "id": "OvYxcF-QN7Lq"
      },
      "execution_count": 19,
      "outputs": []
    },
    {
      "cell_type": "markdown",
      "source": [
        "### Simple RNN"
      ],
      "metadata": {
        "id": "13svcEM0dJPb"
      }
    },
    {
      "cell_type": "markdown",
      "source": [
        "Uses SimpleRNN + Batch normalization layers with 1 hidden layer."
      ],
      "metadata": {
        "id": "o5hIy5eRdNLR"
      }
    },
    {
      "cell_type": "code",
      "source": [
        "simple = create_model(kind=\"simple\", hidden_units=[128, 64])\n",
        "simple.summary()"
      ],
      "metadata": {
        "colab": {
          "base_uri": "https://localhost:8080/",
          "height": 266
        },
        "id": "xKD0X9PEMPXR",
        "outputId": "21c7d5ec-a0d3-4c8f-98e3-21d6886b5579"
      },
      "execution_count": 20,
      "outputs": [
        {
          "output_type": "display_data",
          "data": {
            "text/plain": [
              "\u001b[1mModel: \"sequential\"\u001b[0m\n"
            ],
            "text/html": [
              "<pre style=\"white-space:pre;overflow-x:auto;line-height:normal;font-family:Menlo,'DejaVu Sans Mono',consolas,'Courier New',monospace\"><span style=\"font-weight: bold\">Model: \"sequential\"</span>\n",
              "</pre>\n"
            ]
          },
          "metadata": {}
        },
        {
          "output_type": "display_data",
          "data": {
            "text/plain": [
              "┏━━━━━━━━━━━━━━━━━━━━━━━━━━━━━━━━━┳━━━━━━━━━━━━━━━━━━━━━━━━┳━━━━━━━━━━━━━━━┓\n",
              "┃\u001b[1m \u001b[0m\u001b[1mLayer (type)                   \u001b[0m\u001b[1m \u001b[0m┃\u001b[1m \u001b[0m\u001b[1mOutput Shape          \u001b[0m\u001b[1m \u001b[0m┃\u001b[1m \u001b[0m\u001b[1m      Param #\u001b[0m\u001b[1m \u001b[0m┃\n",
              "┡━━━━━━━━━━━━━━━━━━━━━━━━━━━━━━━━━╇━━━━━━━━━━━━━━━━━━━━━━━━╇━━━━━━━━━━━━━━━┩\n",
              "│ batch_norm_simple_rnn           │ (\u001b[38;5;45mNone\u001b[0m, \u001b[38;5;34m20\u001b[0m, \u001b[38;5;34m128\u001b[0m)        │        \u001b[38;5;34m17,664\u001b[0m │\n",
              "│ (\u001b[38;5;33mBatchNormSimpleRNN\u001b[0m)            │                        │               │\n",
              "├─────────────────────────────────┼────────────────────────┼───────────────┤\n",
              "│ batch_norm_simple_rnn_1         │ (\u001b[38;5;45mNone\u001b[0m, \u001b[38;5;34m64\u001b[0m)             │        \u001b[38;5;34m12,608\u001b[0m │\n",
              "│ (\u001b[38;5;33mBatchNormSimpleRNN\u001b[0m)            │                        │               │\n",
              "├─────────────────────────────────┼────────────────────────┼───────────────┤\n",
              "│ dense (\u001b[38;5;33mDense\u001b[0m)                   │ (\u001b[38;5;45mNone\u001b[0m, \u001b[38;5;34m5\u001b[0m)              │           \u001b[38;5;34m325\u001b[0m │\n",
              "└─────────────────────────────────┴────────────────────────┴───────────────┘\n"
            ],
            "text/html": [
              "<pre style=\"white-space:pre;overflow-x:auto;line-height:normal;font-family:Menlo,'DejaVu Sans Mono',consolas,'Courier New',monospace\">┏━━━━━━━━━━━━━━━━━━━━━━━━━━━━━━━━━┳━━━━━━━━━━━━━━━━━━━━━━━━┳━━━━━━━━━━━━━━━┓\n",
              "┃<span style=\"font-weight: bold\"> Layer (type)                    </span>┃<span style=\"font-weight: bold\"> Output Shape           </span>┃<span style=\"font-weight: bold\">       Param # </span>┃\n",
              "┡━━━━━━━━━━━━━━━━━━━━━━━━━━━━━━━━━╇━━━━━━━━━━━━━━━━━━━━━━━━╇━━━━━━━━━━━━━━━┩\n",
              "│ batch_norm_simple_rnn           │ (<span style=\"color: #00d7ff; text-decoration-color: #00d7ff\">None</span>, <span style=\"color: #00af00; text-decoration-color: #00af00\">20</span>, <span style=\"color: #00af00; text-decoration-color: #00af00\">128</span>)        │        <span style=\"color: #00af00; text-decoration-color: #00af00\">17,664</span> │\n",
              "│ (<span style=\"color: #0087ff; text-decoration-color: #0087ff\">BatchNormSimpleRNN</span>)            │                        │               │\n",
              "├─────────────────────────────────┼────────────────────────┼───────────────┤\n",
              "│ batch_norm_simple_rnn_1         │ (<span style=\"color: #00d7ff; text-decoration-color: #00d7ff\">None</span>, <span style=\"color: #00af00; text-decoration-color: #00af00\">64</span>)             │        <span style=\"color: #00af00; text-decoration-color: #00af00\">12,608</span> │\n",
              "│ (<span style=\"color: #0087ff; text-decoration-color: #0087ff\">BatchNormSimpleRNN</span>)            │                        │               │\n",
              "├─────────────────────────────────┼────────────────────────┼───────────────┤\n",
              "│ dense (<span style=\"color: #0087ff; text-decoration-color: #0087ff\">Dense</span>)                   │ (<span style=\"color: #00d7ff; text-decoration-color: #00d7ff\">None</span>, <span style=\"color: #00af00; text-decoration-color: #00af00\">5</span>)              │           <span style=\"color: #00af00; text-decoration-color: #00af00\">325</span> │\n",
              "└─────────────────────────────────┴────────────────────────┴───────────────┘\n",
              "</pre>\n"
            ]
          },
          "metadata": {}
        },
        {
          "output_type": "display_data",
          "data": {
            "text/plain": [
              "\u001b[1m Total params: \u001b[0m\u001b[38;5;34m30,597\u001b[0m (119.52 KB)\n"
            ],
            "text/html": [
              "<pre style=\"white-space:pre;overflow-x:auto;line-height:normal;font-family:Menlo,'DejaVu Sans Mono',consolas,'Courier New',monospace\"><span style=\"font-weight: bold\"> Total params: </span><span style=\"color: #00af00; text-decoration-color: #00af00\">30,597</span> (119.52 KB)\n",
              "</pre>\n"
            ]
          },
          "metadata": {}
        },
        {
          "output_type": "display_data",
          "data": {
            "text/plain": [
              "\u001b[1m Trainable params: \u001b[0m\u001b[38;5;34m30,213\u001b[0m (118.02 KB)\n"
            ],
            "text/html": [
              "<pre style=\"white-space:pre;overflow-x:auto;line-height:normal;font-family:Menlo,'DejaVu Sans Mono',consolas,'Courier New',monospace\"><span style=\"font-weight: bold\"> Trainable params: </span><span style=\"color: #00af00; text-decoration-color: #00af00\">30,213</span> (118.02 KB)\n",
              "</pre>\n"
            ]
          },
          "metadata": {}
        },
        {
          "output_type": "display_data",
          "data": {
            "text/plain": [
              "\u001b[1m Non-trainable params: \u001b[0m\u001b[38;5;34m384\u001b[0m (1.50 KB)\n"
            ],
            "text/html": [
              "<pre style=\"white-space:pre;overflow-x:auto;line-height:normal;font-family:Menlo,'DejaVu Sans Mono',consolas,'Courier New',monospace\"><span style=\"font-weight: bold\"> Non-trainable params: </span><span style=\"color: #00af00; text-decoration-color: #00af00\">384</span> (1.50 KB)\n",
              "</pre>\n"
            ]
          },
          "metadata": {}
        }
      ]
    },
    {
      "cell_type": "code",
      "source": [
        "simple.fit(train_data, epochs=epochs, validation_data=test_data, callbacks=[early_stopping])"
      ],
      "metadata": {
        "collapsed": true,
        "colab": {
          "base_uri": "https://localhost:8080/"
        },
        "id": "dzdYM62RMpF4",
        "outputId": "94e0e48e-22c8-4a92-ce83-9af4d09d318d"
      },
      "execution_count": 21,
      "outputs": [
        {
          "output_type": "stream",
          "name": "stdout",
          "text": [
            "Epoch 1/20\n",
            "     30/Unknown \u001b[1m7s\u001b[0m 18ms/step - loss: 0.2383 - mae: 0.3644"
          ]
        },
        {
          "output_type": "stream",
          "name": "stderr",
          "text": [
            "/usr/local/lib/python3.11/dist-packages/keras/src/trainers/epoch_iterator.py:151: UserWarning: Your input ran out of data; interrupting training. Make sure that your dataset or generator can generate at least `steps_per_epoch * epochs` batches. You may need to use the `.repeat()` function when building your dataset.\n",
            "  self._interrupted_warning()\n"
          ]
        },
        {
          "output_type": "stream",
          "name": "stdout",
          "text": [
            "\b\b\b\b\b\b\b\b\b\b\b\b\b\b\b\b\b\b\b\b\b\b\b\b\b\b\b\b\b\b\b\b\b\b\b\b\b\b\b\b\b\b\b\b\b\b\b\b\b\b\b\b\b\b\b\b\b\r\u001b[1m31/31\u001b[0m \u001b[32m━━━━━━━━━━━━━━━━━━━━\u001b[0m\u001b[37m\u001b[0m \u001b[1m8s\u001b[0m 35ms/step - loss: 0.2329 - mae: 0.3607 - val_loss: 0.5404 - val_mae: 0.6141\n",
            "Epoch 2/20\n",
            "\u001b[1m31/31\u001b[0m \u001b[32m━━━━━━━━━━━━━━━━━━━━\u001b[0m\u001b[37m\u001b[0m \u001b[1m1s\u001b[0m 37ms/step - loss: 0.0327 - mae: 0.1391 - val_loss: 0.4147 - val_mae: 0.5678\n",
            "Epoch 3/20\n",
            "\u001b[1m31/31\u001b[0m \u001b[32m━━━━━━━━━━━━━━━━━━━━\u001b[0m\u001b[37m\u001b[0m \u001b[1m1s\u001b[0m 20ms/step - loss: 0.0263 - mae: 0.1307 - val_loss: 0.3484 - val_mae: 0.5437\n",
            "Epoch 4/20\n",
            "\u001b[1m31/31\u001b[0m \u001b[32m━━━━━━━━━━━━━━━━━━━━\u001b[0m\u001b[37m\u001b[0m \u001b[1m1s\u001b[0m 21ms/step - loss: 0.0254 - mae: 0.1311 - val_loss: 0.3648 - val_mae: 0.5510\n",
            "Epoch 5/20\n",
            "\u001b[1m31/31\u001b[0m \u001b[32m━━━━━━━━━━━━━━━━━━━━\u001b[0m\u001b[37m\u001b[0m \u001b[1m3s\u001b[0m 62ms/step - loss: 0.0263 - mae: 0.1363 - val_loss: 0.3650 - val_mae: 0.5448\n",
            "Epoch 6/20\n",
            "\u001b[1m31/31\u001b[0m \u001b[32m━━━━━━━━━━━━━━━━━━━━\u001b[0m\u001b[37m\u001b[0m \u001b[1m1s\u001b[0m 19ms/step - loss: 0.0255 - mae: 0.1333 - val_loss: 0.3885 - val_mae: 0.5724\n"
          ]
        },
        {
          "output_type": "execute_result",
          "data": {
            "text/plain": [
              "<keras.src.callbacks.history.History at 0x7efff0bf6c90>"
            ]
          },
          "metadata": {},
          "execution_count": 21
        }
      ]
    },
    {
      "cell_type": "code",
      "source": [
        "result = pd.DataFrame(simple.history.history)\n",
        "result.head()"
      ],
      "metadata": {
        "colab": {
          "base_uri": "https://localhost:8080/",
          "height": 206
        },
        "id": "K4AsxOj9Od3d",
        "outputId": "6bd4a1ac-13fa-4c28-c5e6-1b744acebc18"
      },
      "execution_count": 22,
      "outputs": [
        {
          "output_type": "execute_result",
          "data": {
            "text/plain": [
              "       loss       mae  val_loss   val_mae\n",
              "0  0.152185  0.305324  0.540413  0.614126\n",
              "1  0.046571  0.167205  0.414683  0.567770\n",
              "2  0.035210  0.147287  0.348378  0.543666\n",
              "3  0.031915  0.141584  0.364837  0.550980\n",
              "4  0.031487  0.142265  0.365047  0.544815"
            ],
            "text/html": [
              "\n",
              "  <div id=\"df-4a017ae4-90f2-49ed-8ce3-0cab35c71166\" class=\"colab-df-container\">\n",
              "    <div>\n",
              "<style scoped>\n",
              "    .dataframe tbody tr th:only-of-type {\n",
              "        vertical-align: middle;\n",
              "    }\n",
              "\n",
              "    .dataframe tbody tr th {\n",
              "        vertical-align: top;\n",
              "    }\n",
              "\n",
              "    .dataframe thead th {\n",
              "        text-align: right;\n",
              "    }\n",
              "</style>\n",
              "<table border=\"1\" class=\"dataframe\">\n",
              "  <thead>\n",
              "    <tr style=\"text-align: right;\">\n",
              "      <th></th>\n",
              "      <th>loss</th>\n",
              "      <th>mae</th>\n",
              "      <th>val_loss</th>\n",
              "      <th>val_mae</th>\n",
              "    </tr>\n",
              "  </thead>\n",
              "  <tbody>\n",
              "    <tr>\n",
              "      <th>0</th>\n",
              "      <td>0.152185</td>\n",
              "      <td>0.305324</td>\n",
              "      <td>0.540413</td>\n",
              "      <td>0.614126</td>\n",
              "    </tr>\n",
              "    <tr>\n",
              "      <th>1</th>\n",
              "      <td>0.046571</td>\n",
              "      <td>0.167205</td>\n",
              "      <td>0.414683</td>\n",
              "      <td>0.567770</td>\n",
              "    </tr>\n",
              "    <tr>\n",
              "      <th>2</th>\n",
              "      <td>0.035210</td>\n",
              "      <td>0.147287</td>\n",
              "      <td>0.348378</td>\n",
              "      <td>0.543666</td>\n",
              "    </tr>\n",
              "    <tr>\n",
              "      <th>3</th>\n",
              "      <td>0.031915</td>\n",
              "      <td>0.141584</td>\n",
              "      <td>0.364837</td>\n",
              "      <td>0.550980</td>\n",
              "    </tr>\n",
              "    <tr>\n",
              "      <th>4</th>\n",
              "      <td>0.031487</td>\n",
              "      <td>0.142265</td>\n",
              "      <td>0.365047</td>\n",
              "      <td>0.544815</td>\n",
              "    </tr>\n",
              "  </tbody>\n",
              "</table>\n",
              "</div>\n",
              "    <div class=\"colab-df-buttons\">\n",
              "\n",
              "  <div class=\"colab-df-container\">\n",
              "    <button class=\"colab-df-convert\" onclick=\"convertToInteractive('df-4a017ae4-90f2-49ed-8ce3-0cab35c71166')\"\n",
              "            title=\"Convert this dataframe to an interactive table.\"\n",
              "            style=\"display:none;\">\n",
              "\n",
              "  <svg xmlns=\"http://www.w3.org/2000/svg\" height=\"24px\" viewBox=\"0 -960 960 960\">\n",
              "    <path d=\"M120-120v-720h720v720H120Zm60-500h600v-160H180v160Zm220 220h160v-160H400v160Zm0 220h160v-160H400v160ZM180-400h160v-160H180v160Zm440 0h160v-160H620v160ZM180-180h160v-160H180v160Zm440 0h160v-160H620v160Z\"/>\n",
              "  </svg>\n",
              "    </button>\n",
              "\n",
              "  <style>\n",
              "    .colab-df-container {\n",
              "      display:flex;\n",
              "      gap: 12px;\n",
              "    }\n",
              "\n",
              "    .colab-df-convert {\n",
              "      background-color: #E8F0FE;\n",
              "      border: none;\n",
              "      border-radius: 50%;\n",
              "      cursor: pointer;\n",
              "      display: none;\n",
              "      fill: #1967D2;\n",
              "      height: 32px;\n",
              "      padding: 0 0 0 0;\n",
              "      width: 32px;\n",
              "    }\n",
              "\n",
              "    .colab-df-convert:hover {\n",
              "      background-color: #E2EBFA;\n",
              "      box-shadow: 0px 1px 2px rgba(60, 64, 67, 0.3), 0px 1px 3px 1px rgba(60, 64, 67, 0.15);\n",
              "      fill: #174EA6;\n",
              "    }\n",
              "\n",
              "    .colab-df-buttons div {\n",
              "      margin-bottom: 4px;\n",
              "    }\n",
              "\n",
              "    [theme=dark] .colab-df-convert {\n",
              "      background-color: #3B4455;\n",
              "      fill: #D2E3FC;\n",
              "    }\n",
              "\n",
              "    [theme=dark] .colab-df-convert:hover {\n",
              "      background-color: #434B5C;\n",
              "      box-shadow: 0px 1px 3px 1px rgba(0, 0, 0, 0.15);\n",
              "      filter: drop-shadow(0px 1px 2px rgba(0, 0, 0, 0.3));\n",
              "      fill: #FFFFFF;\n",
              "    }\n",
              "  </style>\n",
              "\n",
              "    <script>\n",
              "      const buttonEl =\n",
              "        document.querySelector('#df-4a017ae4-90f2-49ed-8ce3-0cab35c71166 button.colab-df-convert');\n",
              "      buttonEl.style.display =\n",
              "        google.colab.kernel.accessAllowed ? 'block' : 'none';\n",
              "\n",
              "      async function convertToInteractive(key) {\n",
              "        const element = document.querySelector('#df-4a017ae4-90f2-49ed-8ce3-0cab35c71166');\n",
              "        const dataTable =\n",
              "          await google.colab.kernel.invokeFunction('convertToInteractive',\n",
              "                                                    [key], {});\n",
              "        if (!dataTable) return;\n",
              "\n",
              "        const docLinkHtml = 'Like what you see? Visit the ' +\n",
              "          '<a target=\"_blank\" href=https://colab.research.google.com/notebooks/data_table.ipynb>data table notebook</a>'\n",
              "          + ' to learn more about interactive tables.';\n",
              "        element.innerHTML = '';\n",
              "        dataTable['output_type'] = 'display_data';\n",
              "        await google.colab.output.renderOutput(dataTable, element);\n",
              "        const docLink = document.createElement('div');\n",
              "        docLink.innerHTML = docLinkHtml;\n",
              "        element.appendChild(docLink);\n",
              "      }\n",
              "    </script>\n",
              "  </div>\n",
              "\n",
              "\n",
              "    <div id=\"df-6ac503cd-f95e-45e1-9e04-eac4e0961af2\">\n",
              "      <button class=\"colab-df-quickchart\" onclick=\"quickchart('df-6ac503cd-f95e-45e1-9e04-eac4e0961af2')\"\n",
              "                title=\"Suggest charts\"\n",
              "                style=\"display:none;\">\n",
              "\n",
              "<svg xmlns=\"http://www.w3.org/2000/svg\" height=\"24px\"viewBox=\"0 0 24 24\"\n",
              "     width=\"24px\">\n",
              "    <g>\n",
              "        <path d=\"M19 3H5c-1.1 0-2 .9-2 2v14c0 1.1.9 2 2 2h14c1.1 0 2-.9 2-2V5c0-1.1-.9-2-2-2zM9 17H7v-7h2v7zm4 0h-2V7h2v10zm4 0h-2v-4h2v4z\"/>\n",
              "    </g>\n",
              "</svg>\n",
              "      </button>\n",
              "\n",
              "<style>\n",
              "  .colab-df-quickchart {\n",
              "      --bg-color: #E8F0FE;\n",
              "      --fill-color: #1967D2;\n",
              "      --hover-bg-color: #E2EBFA;\n",
              "      --hover-fill-color: #174EA6;\n",
              "      --disabled-fill-color: #AAA;\n",
              "      --disabled-bg-color: #DDD;\n",
              "  }\n",
              "\n",
              "  [theme=dark] .colab-df-quickchart {\n",
              "      --bg-color: #3B4455;\n",
              "      --fill-color: #D2E3FC;\n",
              "      --hover-bg-color: #434B5C;\n",
              "      --hover-fill-color: #FFFFFF;\n",
              "      --disabled-bg-color: #3B4455;\n",
              "      --disabled-fill-color: #666;\n",
              "  }\n",
              "\n",
              "  .colab-df-quickchart {\n",
              "    background-color: var(--bg-color);\n",
              "    border: none;\n",
              "    border-radius: 50%;\n",
              "    cursor: pointer;\n",
              "    display: none;\n",
              "    fill: var(--fill-color);\n",
              "    height: 32px;\n",
              "    padding: 0;\n",
              "    width: 32px;\n",
              "  }\n",
              "\n",
              "  .colab-df-quickchart:hover {\n",
              "    background-color: var(--hover-bg-color);\n",
              "    box-shadow: 0 1px 2px rgba(60, 64, 67, 0.3), 0 1px 3px 1px rgba(60, 64, 67, 0.15);\n",
              "    fill: var(--button-hover-fill-color);\n",
              "  }\n",
              "\n",
              "  .colab-df-quickchart-complete:disabled,\n",
              "  .colab-df-quickchart-complete:disabled:hover {\n",
              "    background-color: var(--disabled-bg-color);\n",
              "    fill: var(--disabled-fill-color);\n",
              "    box-shadow: none;\n",
              "  }\n",
              "\n",
              "  .colab-df-spinner {\n",
              "    border: 2px solid var(--fill-color);\n",
              "    border-color: transparent;\n",
              "    border-bottom-color: var(--fill-color);\n",
              "    animation:\n",
              "      spin 1s steps(1) infinite;\n",
              "  }\n",
              "\n",
              "  @keyframes spin {\n",
              "    0% {\n",
              "      border-color: transparent;\n",
              "      border-bottom-color: var(--fill-color);\n",
              "      border-left-color: var(--fill-color);\n",
              "    }\n",
              "    20% {\n",
              "      border-color: transparent;\n",
              "      border-left-color: var(--fill-color);\n",
              "      border-top-color: var(--fill-color);\n",
              "    }\n",
              "    30% {\n",
              "      border-color: transparent;\n",
              "      border-left-color: var(--fill-color);\n",
              "      border-top-color: var(--fill-color);\n",
              "      border-right-color: var(--fill-color);\n",
              "    }\n",
              "    40% {\n",
              "      border-color: transparent;\n",
              "      border-right-color: var(--fill-color);\n",
              "      border-top-color: var(--fill-color);\n",
              "    }\n",
              "    60% {\n",
              "      border-color: transparent;\n",
              "      border-right-color: var(--fill-color);\n",
              "    }\n",
              "    80% {\n",
              "      border-color: transparent;\n",
              "      border-right-color: var(--fill-color);\n",
              "      border-bottom-color: var(--fill-color);\n",
              "    }\n",
              "    90% {\n",
              "      border-color: transparent;\n",
              "      border-bottom-color: var(--fill-color);\n",
              "    }\n",
              "  }\n",
              "</style>\n",
              "\n",
              "      <script>\n",
              "        async function quickchart(key) {\n",
              "          const quickchartButtonEl =\n",
              "            document.querySelector('#' + key + ' button');\n",
              "          quickchartButtonEl.disabled = true;  // To prevent multiple clicks.\n",
              "          quickchartButtonEl.classList.add('colab-df-spinner');\n",
              "          try {\n",
              "            const charts = await google.colab.kernel.invokeFunction(\n",
              "                'suggestCharts', [key], {});\n",
              "          } catch (error) {\n",
              "            console.error('Error during call to suggestCharts:', error);\n",
              "          }\n",
              "          quickchartButtonEl.classList.remove('colab-df-spinner');\n",
              "          quickchartButtonEl.classList.add('colab-df-quickchart-complete');\n",
              "        }\n",
              "        (() => {\n",
              "          let quickchartButtonEl =\n",
              "            document.querySelector('#df-6ac503cd-f95e-45e1-9e04-eac4e0961af2 button');\n",
              "          quickchartButtonEl.style.display =\n",
              "            google.colab.kernel.accessAllowed ? 'block' : 'none';\n",
              "        })();\n",
              "      </script>\n",
              "    </div>\n",
              "\n",
              "    </div>\n",
              "  </div>\n"
            ],
            "application/vnd.google.colaboratory.intrinsic+json": {
              "type": "dataframe",
              "variable_name": "result",
              "summary": "{\n  \"name\": \"result\",\n  \"rows\": 6,\n  \"fields\": [\n    {\n      \"column\": \"loss\",\n      \"properties\": {\n        \"dtype\": \"number\",\n        \"std\": 0.048268064314068666,\n        \"min\": 0.029358521103858948,\n        \"max\": 0.1521846503019333,\n        \"num_unique_values\": 6,\n        \"samples\": [\n          0.1521846503019333,\n          0.04657144844532013,\n          0.029358521103858948\n        ],\n        \"semantic_type\": \"\",\n        \"description\": \"\"\n      }\n    },\n    {\n      \"column\": \"mae\",\n      \"properties\": {\n        \"dtype\": \"number\",\n        \"std\": 0.065430120731067,\n        \"min\": 0.13734747469425201,\n        \"max\": 0.30532369017601013,\n        \"num_unique_values\": 6,\n        \"samples\": [\n          0.30532369017601013,\n          0.1672048717737198,\n          0.13734747469425201\n        ],\n        \"semantic_type\": \"\",\n        \"description\": \"\"\n      }\n    },\n    {\n      \"column\": \"val_loss\",\n      \"properties\": {\n        \"dtype\": \"number\",\n        \"std\": 0.07086173931426835,\n        \"min\": 0.3483777642250061,\n        \"max\": 0.5404126048088074,\n        \"num_unique_values\": 6,\n        \"samples\": [\n          0.5404126048088074,\n          0.414683073759079,\n          0.3885003924369812\n        ],\n        \"semantic_type\": \"\",\n        \"description\": \"\"\n      }\n    },\n    {\n      \"column\": \"val_mae\",\n      \"properties\": {\n        \"dtype\": \"number\",\n        \"std\": 0.026581927262864638,\n        \"min\": 0.5436657071113586,\n        \"max\": 0.614125669002533,\n        \"num_unique_values\": 6,\n        \"samples\": [\n          0.614125669002533,\n          0.5677698850631714,\n          0.5724301934242249\n        ],\n        \"semantic_type\": \"\",\n        \"description\": \"\"\n      }\n    }\n  ]\n}"
            }
          },
          "metadata": {},
          "execution_count": 22
        }
      ]
    },
    {
      "cell_type": "code",
      "source": [
        "result[['mae', 'val_mae']].plot(title=\"Mean Absolute Error vs Epoch\")"
      ],
      "metadata": {
        "colab": {
          "base_uri": "https://localhost:8080/",
          "height": 470
        },
        "id": "5O578PCxOgkU",
        "outputId": "c912d910-fa95-4dca-84fa-be07e8a667fd"
      },
      "execution_count": 23,
      "outputs": [
        {
          "output_type": "execute_result",
          "data": {
            "text/plain": [
              "<Axes: title={'center': 'Mean Absolute Error vs Epoch'}>"
            ]
          },
          "metadata": {},
          "execution_count": 23
        },
        {
          "output_type": "display_data",
          "data": {
            "text/plain": [
              "<Figure size 640x480 with 1 Axes>"
            ],
            "image/png": "[encoded data removed]"
          },
          "metadata": {}
        }
      ]
    },
    {
      "cell_type": "code",
      "source": [
        "result[['loss','val_loss']].plot(title=\"Loss vs Epoch\")"
      ],
      "metadata": {
        "colab": {
          "base_uri": "https://localhost:8080/",
          "height": 470
        },
        "id": "XnMsMMjsOoGL",
        "outputId": "612780b8-7fc3-4de2-c48a-a73059fe5d4c"
      },
      "execution_count": 24,
      "outputs": [
        {
          "output_type": "execute_result",
          "data": {
            "text/plain": [
              "<Axes: title={'center': 'Loss vs Epoch'}>"
            ]
          },
          "metadata": {},
          "execution_count": 24
        },
        {
          "output_type": "display_data",
          "data": {
            "text/plain": [
              "<Figure size 640x480 with 1 Axes>"
            ],
            "image/png": "[encoded data removed]"
          },
          "metadata": {}
        }
      ]
    },
    {
      "cell_type": "markdown",
      "source": [
        "### GRU Model"
      ],
      "metadata": {
        "id": "XwMBmFMPdZP6"
      }
    },
    {
      "cell_type": "markdown",
      "source": [
        "Uses a GRU layer with one hidden layer."
      ],
      "metadata": {
        "id": "JKFL4ElXdfd6"
      }
    },
    {
      "cell_type": "code",
      "source": [
        "gru = create_model(kind=\"gru\", hidden_units=[128, 64])\n",
        "gru.summary()"
      ],
      "metadata": {
        "colab": {
          "base_uri": "https://localhost:8080/",
          "height": 234
        },
        "outputId": "73ad0ebb-1a50-4004-e4dd-a5fb67d6f546",
        "id": "qSJMZe8FZ6W3"
      },
      "execution_count": 25,
      "outputs": [
        {
          "output_type": "display_data",
          "data": {
            "text/plain": [
              "\u001b[1mModel: \"sequential_1\"\u001b[0m\n"
            ],
            "text/html": [
              "<pre style=\"white-space:pre;overflow-x:auto;line-height:normal;font-family:Menlo,'DejaVu Sans Mono',consolas,'Courier New',monospace\"><span style=\"font-weight: bold\">Model: \"sequential_1\"</span>\n",
              "</pre>\n"
            ]
          },
          "metadata": {}
        },
        {
          "output_type": "display_data",
          "data": {
            "text/plain": [
              "┏━━━━━━━━━━━━━━━━━━━━━━━━━━━━━━━━━┳━━━━━━━━━━━━━━━━━━━━━━━━┳━━━━━━━━━━━━━━━┓\n",
              "┃\u001b[1m \u001b[0m\u001b[1mLayer (type)                   \u001b[0m\u001b[1m \u001b[0m┃\u001b[1m \u001b[0m\u001b[1mOutput Shape          \u001b[0m\u001b[1m \u001b[0m┃\u001b[1m \u001b[0m\u001b[1m      Param #\u001b[0m\u001b[1m \u001b[0m┃\n",
              "┡━━━━━━━━━━━━━━━━━━━━━━━━━━━━━━━━━╇━━━━━━━━━━━━━━━━━━━━━━━━╇━━━━━━━━━━━━━━━┩\n",
              "│ gru (\u001b[38;5;33mGRU\u001b[0m)                       │ (\u001b[38;5;45mNone\u001b[0m, \u001b[38;5;34m20\u001b[0m, \u001b[38;5;34m128\u001b[0m)        │        \u001b[38;5;34m51,840\u001b[0m │\n",
              "├─────────────────────────────────┼────────────────────────┼───────────────┤\n",
              "│ gru_1 (\u001b[38;5;33mGRU\u001b[0m)                     │ (\u001b[38;5;45mNone\u001b[0m, \u001b[38;5;34m64\u001b[0m)             │        \u001b[38;5;34m37,248\u001b[0m │\n",
              "├─────────────────────────────────┼────────────────────────┼───────────────┤\n",
              "│ dense_1 (\u001b[38;5;33mDense\u001b[0m)                 │ (\u001b[38;5;45mNone\u001b[0m, \u001b[38;5;34m5\u001b[0m)              │           \u001b[38;5;34m325\u001b[0m │\n",
              "└─────────────────────────────────┴────────────────────────┴───────────────┘\n"
            ],
            "text/html": [
              "<pre style=\"white-space:pre;overflow-x:auto;line-height:normal;font-family:Menlo,'DejaVu Sans Mono',consolas,'Courier New',monospace\">┏━━━━━━━━━━━━━━━━━━━━━━━━━━━━━━━━━┳━━━━━━━━━━━━━━━━━━━━━━━━┳━━━━━━━━━━━━━━━┓\n",
              "┃<span style=\"font-weight: bold\"> Layer (type)                    </span>┃<span style=\"font-weight: bold\"> Output Shape           </span>┃<span style=\"font-weight: bold\">       Param # </span>┃\n",
              "┡━━━━━━━━━━━━━━━━━━━━━━━━━━━━━━━━━╇━━━━━━━━━━━━━━━━━━━━━━━━╇━━━━━━━━━━━━━━━┩\n",
              "│ gru (<span style=\"color: #0087ff; text-decoration-color: #0087ff\">GRU</span>)                       │ (<span style=\"color: #00d7ff; text-decoration-color: #00d7ff\">None</span>, <span style=\"color: #00af00; text-decoration-color: #00af00\">20</span>, <span style=\"color: #00af00; text-decoration-color: #00af00\">128</span>)        │        <span style=\"color: #00af00; text-decoration-color: #00af00\">51,840</span> │\n",
              "├─────────────────────────────────┼────────────────────────┼───────────────┤\n",
              "│ gru_1 (<span style=\"color: #0087ff; text-decoration-color: #0087ff\">GRU</span>)                     │ (<span style=\"color: #00d7ff; text-decoration-color: #00d7ff\">None</span>, <span style=\"color: #00af00; text-decoration-color: #00af00\">64</span>)             │        <span style=\"color: #00af00; text-decoration-color: #00af00\">37,248</span> │\n",
              "├─────────────────────────────────┼────────────────────────┼───────────────┤\n",
              "│ dense_1 (<span style=\"color: #0087ff; text-decoration-color: #0087ff\">Dense</span>)                 │ (<span style=\"color: #00d7ff; text-decoration-color: #00d7ff\">None</span>, <span style=\"color: #00af00; text-decoration-color: #00af00\">5</span>)              │           <span style=\"color: #00af00; text-decoration-color: #00af00\">325</span> │\n",
              "└─────────────────────────────────┴────────────────────────┴───────────────┘\n",
              "</pre>\n"
            ]
          },
          "metadata": {}
        },
        {
          "output_type": "display_data",
          "data": {
            "text/plain": [
              "\u001b[1m Total params: \u001b[0m\u001b[38;5;34m89,413\u001b[0m (349.27 KB)\n"
            ],
            "text/html": [
              "<pre style=\"white-space:pre;overflow-x:auto;line-height:normal;font-family:Menlo,'DejaVu Sans Mono',consolas,'Courier New',monospace\"><span style=\"font-weight: bold\"> Total params: </span><span style=\"color: #00af00; text-decoration-color: #00af00\">89,413</span> (349.27 KB)\n",
              "</pre>\n"
            ]
          },
          "metadata": {}
        },
        {
          "output_type": "display_data",
          "data": {
            "text/plain": [
              "\u001b[1m Trainable params: \u001b[0m\u001b[38;5;34m89,413\u001b[0m (349.27 KB)\n"
            ],
            "text/html": [
              "<pre style=\"white-space:pre;overflow-x:auto;line-height:normal;font-family:Menlo,'DejaVu Sans Mono',consolas,'Courier New',monospace\"><span style=\"font-weight: bold\"> Trainable params: </span><span style=\"color: #00af00; text-decoration-color: #00af00\">89,413</span> (349.27 KB)\n",
              "</pre>\n"
            ]
          },
          "metadata": {}
        },
        {
          "output_type": "display_data",
          "data": {
            "text/plain": [
              "\u001b[1m Non-trainable params: \u001b[0m\u001b[38;5;34m0\u001b[0m (0.00 B)\n"
            ],
            "text/html": [
              "<pre style=\"white-space:pre;overflow-x:auto;line-height:normal;font-family:Menlo,'DejaVu Sans Mono',consolas,'Courier New',monospace\"><span style=\"font-weight: bold\"> Non-trainable params: </span><span style=\"color: #00af00; text-decoration-color: #00af00\">0</span> (0.00 B)\n",
              "</pre>\n"
            ]
          },
          "metadata": {}
        }
      ]
    },
    {
      "cell_type": "code",
      "source": [
        "gru.fit(train_data, epochs=epochs, validation_data=test_data, callbacks=[early_stopping])"
      ],
      "metadata": {
        "colab": {
          "base_uri": "https://localhost:8080/"
        },
        "id": "2xMDgmvxZ-Xq",
        "outputId": "aa4447d8-4128-423e-e7cc-81b36d664fe6"
      },
      "execution_count": 26,
      "outputs": [
        {
          "output_type": "stream",
          "name": "stdout",
          "text": [
            "Epoch 1/20\n",
            "     31/Unknown \u001b[1m10s\u001b[0m 102ms/step - loss: 0.0046 - mae: 0.0447"
          ]
        },
        {
          "output_type": "stream",
          "name": "stderr",
          "text": [
            "/usr/local/lib/python3.11/dist-packages/keras/src/trainers/epoch_iterator.py:151: UserWarning: Your input ran out of data; interrupting training. Make sure that your dataset or generator can generate at least `steps_per_epoch * epochs` batches. You may need to use the `.repeat()` function when building your dataset.\n",
            "  self._interrupted_warning()\n"
          ]
        },
        {
          "output_type": "stream",
          "name": "stdout",
          "text": [
            "\b\b\b\b\b\b\b\b\b\b\b\b\b\b\b\b\b\b\b\b\b\b\b\b\b\b\b\b\b\b\b\b\b\b\b\b\b\b\b\b\b\b\b\b\b\b\b\b\b\b\b\b\b\b\b\b\b\b\b\r\u001b[1m31/31\u001b[0m \u001b[32m━━━━━━━━━━━━━━━━━━━━\u001b[0m\u001b[37m\u001b[0m \u001b[1m12s\u001b[0m 147ms/step - loss: 0.0047 - mae: 0.0451 - val_loss: 0.0191 - val_mae: 0.1117\n",
            "Epoch 2/20\n",
            "\u001b[1m31/31\u001b[0m \u001b[32m━━━━━━━━━━━━━━━━━━━━\u001b[0m\u001b[37m\u001b[0m \u001b[1m2s\u001b[0m 61ms/step - loss: 0.0145 - mae: 0.1005 - val_loss: 0.0160 - val_mae: 0.1120\n",
            "Epoch 3/20\n",
            "\u001b[1m31/31\u001b[0m \u001b[32m━━━━━━━━━━━━━━━━━━━━\u001b[0m\u001b[37m\u001b[0m \u001b[1m3s\u001b[0m 62ms/step - loss: 0.0086 - mae: 0.0748 - val_loss: 0.0070 - val_mae: 0.0720\n",
            "Epoch 4/20\n",
            "\u001b[1m31/31\u001b[0m \u001b[32m━━━━━━━━━━━━━━━━━━━━\u001b[0m\u001b[37m\u001b[0m \u001b[1m2s\u001b[0m 61ms/step - loss: 0.0054 - mae: 0.0589 - val_loss: 0.0047 - val_mae: 0.0521\n",
            "Epoch 5/20\n",
            "\u001b[1m31/31\u001b[0m \u001b[32m━━━━━━━━━━━━━━━━━━━━\u001b[0m\u001b[37m\u001b[0m \u001b[1m3s\u001b[0m 85ms/step - loss: 0.0059 - mae: 0.0630 - val_loss: 0.0087 - val_mae: 0.0783\n",
            "Epoch 6/20\n",
            "\u001b[1m31/31\u001b[0m \u001b[32m━━━━━━━━━━━━━━━━━━━━\u001b[0m\u001b[37m\u001b[0m \u001b[1m5s\u001b[0m 83ms/step - loss: 0.0046 - mae: 0.0541 - val_loss: 0.0103 - val_mae: 0.0871\n",
            "Epoch 7/20\n",
            "\u001b[1m31/31\u001b[0m \u001b[32m━━━━━━━━━━━━━━━━━━━━\u001b[0m\u001b[37m\u001b[0m \u001b[1m4s\u001b[0m 62ms/step - loss: 0.0057 - mae: 0.0614 - val_loss: 0.0087 - val_mae: 0.0773\n"
          ]
        },
        {
          "output_type": "execute_result",
          "data": {
            "text/plain": [
              "<keras.src.callbacks.history.History at 0x7effe6f92110>"
            ]
          },
          "metadata": {},
          "execution_count": 26
        }
      ]
    },
    {
      "cell_type": "code",
      "source": [
        "result = pd.DataFrame(gru.history.history)\n",
        "result.head()"
      ],
      "metadata": {
        "colab": {
          "base_uri": "https://localhost:8080/",
          "height": 206
        },
        "id": "XuvLsh06aKFR",
        "outputId": "73a3b1f4-cb5f-4d2e-fb4f-c70e90ee95b7"
      },
      "execution_count": 27,
      "outputs": [
        {
          "output_type": "execute_result",
          "data": {
            "text/plain": [
              "       loss       mae  val_loss   val_mae\n",
              "0  0.007615  0.057718  0.019077  0.111738\n",
              "1  0.011707  0.086503  0.015970  0.111979\n",
              "2  0.008665  0.070627  0.006982  0.072018\n",
              "3  0.007466  0.064159  0.004681  0.052101\n",
              "4  0.007283  0.064086  0.008743  0.078297"
            ],
            "text/html": [
              "\n",
              "  <div id=\"df-bc5a5693-2186-4b78-8400-96b565ac7155\" class=\"colab-df-container\">\n",
              "    <div>\n",
              "<style scoped>\n",
              "    .dataframe tbody tr th:only-of-type {\n",
              "        vertical-align: middle;\n",
              "    }\n",
              "\n",
              "    .dataframe tbody tr th {\n",
              "        vertical-align: top;\n",
              "    }\n",
              "\n",
              "    .dataframe thead th {\n",
              "        text-align: right;\n",
              "    }\n",
              "</style>\n",
              "<table border=\"1\" class=\"dataframe\">\n",
              "  <thead>\n",
              "    <tr style=\"text-align: right;\">\n",
              "      <th></th>\n",
              "      <th>loss</th>\n",
              "      <th>mae</th>\n",
              "      <th>val_loss</th>\n",
              "      <th>val_mae</th>\n",
              "    </tr>\n",
              "  </thead>\n",
              "  <tbody>\n",
              "    <tr>\n",
              "      <th>0</th>\n",
              "      <td>0.007615</td>\n",
              "      <td>0.057718</td>\n",
              "      <td>0.019077</td>\n",
              "      <td>0.111738</td>\n",
              "    </tr>\n",
              "    <tr>\n",
              "      <th>1</th>\n",
              "      <td>0.011707</td>\n",
              "      <td>0.086503</td>\n",
              "      <td>0.015970</td>\n",
              "      <td>0.111979</td>\n",
              "    </tr>\n",
              "    <tr>\n",
              "      <th>2</th>\n",
              "      <td>0.008665</td>\n",
              "      <td>0.070627</td>\n",
              "      <td>0.006982</td>\n",
              "      <td>0.072018</td>\n",
              "    </tr>\n",
              "    <tr>\n",
              "      <th>3</th>\n",
              "      <td>0.007466</td>\n",
              "      <td>0.064159</td>\n",
              "      <td>0.004681</td>\n",
              "      <td>0.052101</td>\n",
              "    </tr>\n",
              "    <tr>\n",
              "      <th>4</th>\n",
              "      <td>0.007283</td>\n",
              "      <td>0.064086</td>\n",
              "      <td>0.008743</td>\n",
              "      <td>0.078297</td>\n",
              "    </tr>\n",
              "  </tbody>\n",
              "</table>\n",
              "</div>\n",
              "    <div class=\"colab-df-buttons\">\n",
              "\n",
              "  <div class=\"colab-df-container\">\n",
              "    <button class=\"colab-df-convert\" onclick=\"convertToInteractive('df-bc5a5693-2186-4b78-8400-96b565ac7155')\"\n",
              "            title=\"Convert this dataframe to an interactive table.\"\n",
              "            style=\"display:none;\">\n",
              "\n",
              "  <svg xmlns=\"http://www.w3.org/2000/svg\" height=\"24px\" viewBox=\"0 -960 960 960\">\n",
              "    <path d=\"M120-120v-720h720v720H120Zm60-500h600v-160H180v160Zm220 220h160v-160H400v160Zm0 220h160v-160H400v160ZM180-400h160v-160H180v160Zm440 0h160v-160H620v160ZM180-180h160v-160H180v160Zm440 0h160v-160H620v160Z\"/>\n",
              "  </svg>\n",
              "    </button>\n",
              "\n",
              "  <style>\n",
              "    .colab-df-container {\n",
              "      display:flex;\n",
              "      gap: 12px;\n",
              "    }\n",
              "\n",
              "    .colab-df-convert {\n",
              "      background-color: #E8F0FE;\n",
              "      border: none;\n",
              "      border-radius: 50%;\n",
              "      cursor: pointer;\n",
              "      display: none;\n",
              "      fill: #1967D2;\n",
              "      height: 32px;\n",
              "      padding: 0 0 0 0;\n",
              "      width: 32px;\n",
              "    }\n",
              "\n",
              "    .colab-df-convert:hover {\n",
              "      background-color: #E2EBFA;\n",
              "      box-shadow: 0px 1px 2px rgba(60, 64, 67, 0.3), 0px 1px 3px 1px rgba(60, 64, 67, 0.15);\n",
              "      fill: #174EA6;\n",
              "    }\n",
              "\n",
              "    .colab-df-buttons div {\n",
              "      margin-bottom: 4px;\n",
              "    }\n",
              "\n",
              "    [theme=dark] .colab-df-convert {\n",
              "      background-color: #3B4455;\n",
              "      fill: #D2E3FC;\n",
              "    }\n",
              "\n",
              "    [theme=dark] .colab-df-convert:hover {\n",
              "      background-color: #434B5C;\n",
              "      box-shadow: 0px 1px 3px 1px rgba(0, 0, 0, 0.15);\n",
              "      filter: drop-shadow(0px 1px 2px rgba(0, 0, 0, 0.3));\n",
              "      fill: #FFFFFF;\n",
              "    }\n",
              "  </style>\n",
              "\n",
              "    <script>\n",
              "      const buttonEl =\n",
              "        document.querySelector('#df-bc5a5693-2186-4b78-8400-96b565ac7155 button.colab-df-convert');\n",
              "      buttonEl.style.display =\n",
              "        google.colab.kernel.accessAllowed ? 'block' : 'none';\n",
              "\n",
              "      async function convertToInteractive(key) {\n",
              "        const element = document.querySelector('#df-bc5a5693-2186-4b78-8400-96b565ac7155');\n",
              "        const dataTable =\n",
              "          await google.colab.kernel.invokeFunction('convertToInteractive',\n",
              "                                                    [key], {});\n",
              "        if (!dataTable) return;\n",
              "\n",
              "        const docLinkHtml = 'Like what you see? Visit the ' +\n",
              "          '<a target=\"_blank\" href=https://colab.research.google.com/notebooks/data_table.ipynb>data table notebook</a>'\n",
              "          + ' to learn more about interactive tables.';\n",
              "        element.innerHTML = '';\n",
              "        dataTable['output_type'] = 'display_data';\n",
              "        await google.colab.output.renderOutput(dataTable, element);\n",
              "        const docLink = document.createElement('div');\n",
              "        docLink.innerHTML = docLinkHtml;\n",
              "        element.appendChild(docLink);\n",
              "      }\n",
              "    </script>\n",
              "  </div>\n",
              "\n",
              "\n",
              "    <div id=\"df-16dbe6ce-0dab-4046-b686-5d16337548a1\">\n",
              "      <button class=\"colab-df-quickchart\" onclick=\"quickchart('df-16dbe6ce-0dab-4046-b686-5d16337548a1')\"\n",
              "                title=\"Suggest charts\"\n",
              "                style=\"display:none;\">\n",
              "\n",
              "<svg xmlns=\"http://www.w3.org/2000/svg\" height=\"24px\"viewBox=\"0 0 24 24\"\n",
              "     width=\"24px\">\n",
              "    <g>\n",
              "        <path d=\"M19 3H5c-1.1 0-2 .9-2 2v14c0 1.1.9 2 2 2h14c1.1 0 2-.9 2-2V5c0-1.1-.9-2-2-2zM9 17H7v-7h2v7zm4 0h-2V7h2v10zm4 0h-2v-4h2v4z\"/>\n",
              "    </g>\n",
              "</svg>\n",
              "      </button>\n",
              "\n",
              "<style>\n",
              "  .colab-df-quickchart {\n",
              "      --bg-color: #E8F0FE;\n",
              "      --fill-color: #1967D2;\n",
              "      --hover-bg-color: #E2EBFA;\n",
              "      --hover-fill-color: #174EA6;\n",
              "      --disabled-fill-color: #AAA;\n",
              "      --disabled-bg-color: #DDD;\n",
              "  }\n",
              "\n",
              "  [theme=dark] .colab-df-quickchart {\n",
              "      --bg-color: #3B4455;\n",
              "      --fill-color: #D2E3FC;\n",
              "      --hover-bg-color: #434B5C;\n",
              "      --hover-fill-color: #FFFFFF;\n",
              "      --disabled-bg-color: #3B4455;\n",
              "      --disabled-fill-color: #666;\n",
              "  }\n",
              "\n",
              "  .colab-df-quickchart {\n",
              "    background-color: var(--bg-color);\n",
              "    border: none;\n",
              "    border-radius: 50%;\n",
              "    cursor: pointer;\n",
              "    display: none;\n",
              "    fill: var(--fill-color);\n",
              "    height: 32px;\n",
              "    padding: 0;\n",
              "    width: 32px;\n",
              "  }\n",
              "\n",
              "  .colab-df-quickchart:hover {\n",
              "    background-color: var(--hover-bg-color);\n",
              "    box-shadow: 0 1px 2px rgba(60, 64, 67, 0.3), 0 1px 3px 1px rgba(60, 64, 67, 0.15);\n",
              "    fill: var(--button-hover-fill-color);\n",
              "  }\n",
              "\n",
              "  .colab-df-quickchart-complete:disabled,\n",
              "  .colab-df-quickchart-complete:disabled:hover {\n",
              "    background-color: var(--disabled-bg-color);\n",
              "    fill: var(--disabled-fill-color);\n",
              "    box-shadow: none;\n",
              "  }\n",
              "\n",
              "  .colab-df-spinner {\n",
              "    border: 2px solid var(--fill-color);\n",
              "    border-color: transparent;\n",
              "    border-bottom-color: var(--fill-color);\n",
              "    animation:\n",
              "      spin 1s steps(1) infinite;\n",
              "  }\n",
              "\n",
              "  @keyframes spin {\n",
              "    0% {\n",
              "      border-color: transparent;\n",
              "      border-bottom-color: var(--fill-color);\n",
              "      border-left-color: var(--fill-color);\n",
              "    }\n",
              "    20% {\n",
              "      border-color: transparent;\n",
              "      border-left-color: var(--fill-color);\n",
              "      border-top-color: var(--fill-color);\n",
              "    }\n",
              "    30% {\n",
              "      border-color: transparent;\n",
              "      border-left-color: var(--fill-color);\n",
              "      border-top-color: var(--fill-color);\n",
              "      border-right-color: var(--fill-color);\n",
              "    }\n",
              "    40% {\n",
              "      border-color: transparent;\n",
              "      border-right-color: var(--fill-color);\n",
              "      border-top-color: var(--fill-color);\n",
              "    }\n",
              "    60% {\n",
              "      border-color: transparent;\n",
              "      border-right-color: var(--fill-color);\n",
              "    }\n",
              "    80% {\n",
              "      border-color: transparent;\n",
              "      border-right-color: var(--fill-color);\n",
              "      border-bottom-color: var(--fill-color);\n",
              "    }\n",
              "    90% {\n",
              "      border-color: transparent;\n",
              "      border-bottom-color: var(--fill-color);\n",
              "    }\n",
              "  }\n",
              "</style>\n",
              "\n",
              "      <script>\n",
              "        async function quickchart(key) {\n",
              "          const quickchartButtonEl =\n",
              "            document.querySelector('#' + key + ' button');\n",
              "          quickchartButtonEl.disabled = true;  // To prevent multiple clicks.\n",
              "          quickchartButtonEl.classList.add('colab-df-spinner');\n",
              "          try {\n",
              "            const charts = await google.colab.kernel.invokeFunction(\n",
              "                'suggestCharts', [key], {});\n",
              "          } catch (error) {\n",
              "            console.error('Error during call to suggestCharts:', error);\n",
              "          }\n",
              "          quickchartButtonEl.classList.remove('colab-df-spinner');\n",
              "          quickchartButtonEl.classList.add('colab-df-quickchart-complete');\n",
              "        }\n",
              "        (() => {\n",
              "          let quickchartButtonEl =\n",
              "            document.querySelector('#df-16dbe6ce-0dab-4046-b686-5d16337548a1 button');\n",
              "          quickchartButtonEl.style.display =\n",
              "            google.colab.kernel.accessAllowed ? 'block' : 'none';\n",
              "        })();\n",
              "      </script>\n",
              "    </div>\n",
              "\n",
              "    </div>\n",
              "  </div>\n"
            ],
            "application/vnd.google.colaboratory.intrinsic+json": {
              "type": "dataframe",
              "variable_name": "result",
              "summary": "{\n  \"name\": \"result\",\n  \"rows\": 7,\n  \"fields\": [\n    {\n      \"column\": \"loss\",\n      \"properties\": {\n        \"dtype\": \"number\",\n        \"std\": 0.0017285650221060117,\n        \"min\": 0.006474836729466915,\n        \"max\": 0.01170688308775425,\n        \"num_unique_values\": 7,\n        \"samples\": [\n          0.007614705711603165,\n          0.01170688308775425,\n          0.006474836729466915\n        ],\n        \"semantic_type\": \"\",\n        \"description\": \"\"\n      }\n    },\n    {\n      \"column\": \"mae\",\n      \"properties\": {\n        \"dtype\": \"number\",\n        \"std\": 0.009738552147340632,\n        \"min\": 0.05771816894412041,\n        \"max\": 0.08650251477956772,\n        \"num_unique_values\": 7,\n        \"samples\": [\n          0.05771816894412041,\n          0.08650251477956772,\n          0.059136636555194855\n        ],\n        \"semantic_type\": \"\",\n        \"description\": \"\"\n      }\n    },\n    {\n      \"column\": \"val_loss\",\n      \"properties\": {\n        \"dtype\": \"number\",\n        \"std\": 0.005100020135958149,\n        \"min\": 0.0046812365762889385,\n        \"max\": 0.0190767589956522,\n        \"num_unique_values\": 7,\n        \"samples\": [\n          0.0190767589956522,\n          0.015969855710864067,\n          0.010293803177773952\n        ],\n        \"semantic_type\": \"\",\n        \"description\": \"\"\n      }\n    },\n    {\n      \"column\": \"val_mae\",\n      \"properties\": {\n        \"dtype\": \"number\",\n        \"std\": 0.021603179035521936,\n        \"min\": 0.052100516855716705,\n        \"max\": 0.11197872459888458,\n        \"num_unique_values\": 7,\n        \"samples\": [\n          0.11173782497644424,\n          0.11197872459888458,\n          0.08711249381303787\n        ],\n        \"semantic_type\": \"\",\n        \"description\": \"\"\n      }\n    }\n  ]\n}"
            }
          },
          "metadata": {},
          "execution_count": 27
        }
      ]
    },
    {
      "cell_type": "code",
      "source": [
        "result[['mae', 'val_mae']].plot(title=\"Mean Absolute Error vs Epoch\")"
      ],
      "metadata": {
        "colab": {
          "base_uri": "https://localhost:8080/",
          "height": 470
        },
        "id": "QEW9xpP9aKpt",
        "outputId": "f78857c8-2411-41a0-8e28-b9c471559aca"
      },
      "execution_count": 28,
      "outputs": [
        {
          "output_type": "execute_result",
          "data": {
            "text/plain": [
              "<Axes: title={'center': 'Mean Absolute Error vs Epoch'}>"
            ]
          },
          "metadata": {},
          "execution_count": 28
        },
        {
          "output_type": "display_data",
          "data": {
            "text/plain": [
              "<Figure size 640x480 with 1 Axes>"
            ],
            "image/png": "[encoded data removed]"
          },
          "metadata": {}
        }
      ]
    },
    {
      "cell_type": "code",
      "source": [
        "result[['loss','val_loss']].plot(title=\"Loss vs Epoch\")"
      ],
      "metadata": {
        "colab": {
          "base_uri": "https://localhost:8080/",
          "height": 470
        },
        "id": "r3djwwyiaOVr",
        "outputId": "998d876b-aecc-4cc9-c53a-3b4286868a9f"
      },
      "execution_count": 29,
      "outputs": [
        {
          "output_type": "execute_result",
          "data": {
            "text/plain": [
              "<Axes: title={'center': 'Loss vs Epoch'}>"
            ]
          },
          "metadata": {},
          "execution_count": 29
        },
        {
          "output_type": "display_data",
          "data": {
            "text/plain": [
              "<Figure size 640x480 with 1 Axes>"
            ],
            "image/png": "[encoded data removed]"
          },
          "metadata": {}
        }
      ]
    },
    {
      "cell_type": "markdown",
      "source": [
        "### LSTM"
      ],
      "metadata": {
        "id": "lRtXy91_dteA"
      }
    },
    {
      "cell_type": "markdown",
      "source": [
        "Uses LSTM layers with 1 hidden layer."
      ],
      "metadata": {
        "id": "9CjkOw2SdvMv"
      }
    },
    {
      "cell_type": "code",
      "source": [
        "lstm = create_model(kind=\"lstm\", hidden_units=[128, 64])\n",
        "lstm.summary()"
      ],
      "metadata": {
        "colab": {
          "base_uri": "https://localhost:8080/",
          "height": 234
        },
        "id": "kp2UJJfUc739",
        "outputId": "019e8117-47b4-4791-9752-6034838596d8"
      },
      "execution_count": 30,
      "outputs": [
        {
          "output_type": "display_data",
          "data": {
            "text/plain": [
              "\u001b[1mModel: \"sequential_2\"\u001b[0m\n"
            ],
            "text/html": [
              "<pre style=\"white-space:pre;overflow-x:auto;line-height:normal;font-family:Menlo,'DejaVu Sans Mono',consolas,'Courier New',monospace\"><span style=\"font-weight: bold\">Model: \"sequential_2\"</span>\n",
              "</pre>\n"
            ]
          },
          "metadata": {}
        },
        {
          "output_type": "display_data",
          "data": {
            "text/plain": [
              "┏━━━━━━━━━━━━━━━━━━━━━━━━━━━━━━━━━┳━━━━━━━━━━━━━━━━━━━━━━━━┳━━━━━━━━━━━━━━━┓\n",
              "┃\u001b[1m \u001b[0m\u001b[1mLayer (type)                   \u001b[0m\u001b[1m \u001b[0m┃\u001b[1m \u001b[0m\u001b[1mOutput Shape          \u001b[0m\u001b[1m \u001b[0m┃\u001b[1m \u001b[0m\u001b[1m      Param #\u001b[0m\u001b[1m \u001b[0m┃\n",
              "┡━━━━━━━━━━━━━━━━━━━━━━━━━━━━━━━━━╇━━━━━━━━━━━━━━━━━━━━━━━━╇━━━━━━━━━━━━━━━┩\n",
              "│ lstm (\u001b[38;5;33mLSTM\u001b[0m)                     │ (\u001b[38;5;45mNone\u001b[0m, \u001b[38;5;34m20\u001b[0m, \u001b[38;5;34m128\u001b[0m)        │        \u001b[38;5;34m68,608\u001b[0m │\n",
              "├─────────────────────────────────┼────────────────────────┼───────────────┤\n",
              "│ lstm_1 (\u001b[38;5;33mLSTM\u001b[0m)                   │ (\u001b[38;5;45mNone\u001b[0m, \u001b[38;5;34m64\u001b[0m)             │        \u001b[38;5;34m49,408\u001b[0m │\n",
              "├─────────────────────────────────┼────────────────────────┼───────────────┤\n",
              "│ dense_2 (\u001b[38;5;33mDense\u001b[0m)                 │ (\u001b[38;5;45mNone\u001b[0m, \u001b[38;5;34m5\u001b[0m)              │           \u001b[38;5;34m325\u001b[0m │\n",
              "└─────────────────────────────────┴────────────────────────┴───────────────┘\n"
            ],
            "text/html": [
              "<pre style=\"white-space:pre;overflow-x:auto;line-height:normal;font-family:Menlo,'DejaVu Sans Mono',consolas,'Courier New',monospace\">┏━━━━━━━━━━━━━━━━━━━━━━━━━━━━━━━━━┳━━━━━━━━━━━━━━━━━━━━━━━━┳━━━━━━━━━━━━━━━┓\n",
              "┃<span style=\"font-weight: bold\"> Layer (type)                    </span>┃<span style=\"font-weight: bold\"> Output Shape           </span>┃<span style=\"font-weight: bold\">       Param # </span>┃\n",
              "┡━━━━━━━━━━━━━━━━━━━━━━━━━━━━━━━━━╇━━━━━━━━━━━━━━━━━━━━━━━━╇━━━━━━━━━━━━━━━┩\n",
              "│ lstm (<span style=\"color: #0087ff; text-decoration-color: #0087ff\">LSTM</span>)                     │ (<span style=\"color: #00d7ff; text-decoration-color: #00d7ff\">None</span>, <span style=\"color: #00af00; text-decoration-color: #00af00\">20</span>, <span style=\"color: #00af00; text-decoration-color: #00af00\">128</span>)        │        <span style=\"color: #00af00; text-decoration-color: #00af00\">68,608</span> │\n",
              "├─────────────────────────────────┼────────────────────────┼───────────────┤\n",
              "│ lstm_1 (<span style=\"color: #0087ff; text-decoration-color: #0087ff\">LSTM</span>)                   │ (<span style=\"color: #00d7ff; text-decoration-color: #00d7ff\">None</span>, <span style=\"color: #00af00; text-decoration-color: #00af00\">64</span>)             │        <span style=\"color: #00af00; text-decoration-color: #00af00\">49,408</span> │\n",
              "├─────────────────────────────────┼────────────────────────┼───────────────┤\n",
              "│ dense_2 (<span style=\"color: #0087ff; text-decoration-color: #0087ff\">Dense</span>)                 │ (<span style=\"color: #00d7ff; text-decoration-color: #00d7ff\">None</span>, <span style=\"color: #00af00; text-decoration-color: #00af00\">5</span>)              │           <span style=\"color: #00af00; text-decoration-color: #00af00\">325</span> │\n",
              "└─────────────────────────────────┴────────────────────────┴───────────────┘\n",
              "</pre>\n"
            ]
          },
          "metadata": {}
        },
        {
          "output_type": "display_data",
          "data": {
            "text/plain": [
              "\u001b[1m Total params: \u001b[0m\u001b[38;5;34m118,341\u001b[0m (462.27 KB)\n"
            ],
            "text/html": [
              "<pre style=\"white-space:pre;overflow-x:auto;line-height:normal;font-family:Menlo,'DejaVu Sans Mono',consolas,'Courier New',monospace\"><span style=\"font-weight: bold\"> Total params: </span><span style=\"color: #00af00; text-decoration-color: #00af00\">118,341</span> (462.27 KB)\n",
              "</pre>\n"
            ]
          },
          "metadata": {}
        },
        {
          "output_type": "display_data",
          "data": {
            "text/plain": [
              "\u001b[1m Trainable params: \u001b[0m\u001b[38;5;34m118,341\u001b[0m (462.27 KB)\n"
            ],
            "text/html": [
              "<pre style=\"white-space:pre;overflow-x:auto;line-height:normal;font-family:Menlo,'DejaVu Sans Mono',consolas,'Courier New',monospace\"><span style=\"font-weight: bold\"> Trainable params: </span><span style=\"color: #00af00; text-decoration-color: #00af00\">118,341</span> (462.27 KB)\n",
              "</pre>\n"
            ]
          },
          "metadata": {}
        },
        {
          "output_type": "display_data",
          "data": {
            "text/plain": [
              "\u001b[1m Non-trainable params: \u001b[0m\u001b[38;5;34m0\u001b[0m (0.00 B)\n"
            ],
            "text/html": [
              "<pre style=\"white-space:pre;overflow-x:auto;line-height:normal;font-family:Menlo,'DejaVu Sans Mono',consolas,'Courier New',monospace\"><span style=\"font-weight: bold\"> Non-trainable params: </span><span style=\"color: #00af00; text-decoration-color: #00af00\">0</span> (0.00 B)\n",
              "</pre>\n"
            ]
          },
          "metadata": {}
        }
      ]
    },
    {
      "cell_type": "code",
      "source": [
        "lstm.fit(train_data, epochs=epochs, validation_data=test_data, callbacks=[early_stopping])"
      ],
      "metadata": {
        "id": "BkHhFlxQeVKx",
        "outputId": "f0cda181-0be3-40c7-af9b-4a49d28a2732",
        "colab": {
          "base_uri": "https://localhost:8080/"
        }
      },
      "execution_count": null,
      "outputs": [
        {
          "output_type": "stream",
          "name": "stdout",
          "text": [
            "Epoch 1/20\n",
            "     31/Unknown \u001b[1m13s\u001b[0m 64ms/step - loss: 0.0048 - mae: 0.0447"
          ]
        },
        {
          "output_type": "stream",
          "name": "stderr",
          "text": [
            "/usr/local/lib/python3.11/dist-packages/keras/src/trainers/epoch_iterator.py:151: UserWarning: Your input ran out of data; interrupting training. Make sure that your dataset or generator can generate at least `steps_per_epoch * epochs` batches. You may need to use the `.repeat()` function when building your dataset.\n",
            "  self._interrupted_warning()\n"
          ]
        },
        {
          "output_type": "stream",
          "name": "stdout",
          "text": [
            "\b\b\b\b\b\b\b\b\b\b\b\b\b\b\b\b\b\b\b\b\b\b\b\b\b\b\b\b\b\b\b\b\b\b\b\b\b\b\b\b\b\b\b\b\b\b\b\b\b\b\b\b\b\b\b\b\b\b\r\u001b[1m31/31\u001b[0m \u001b[32m━━━━━━━━━━━━━━━━━━━━\u001b[0m\u001b[37m\u001b[0m \u001b[1m15s\u001b[0m 127ms/step - loss: 0.0049 - mae: 0.0452 - val_loss: 0.0250 - val_mae: 0.1315\n",
            "Epoch 2/20\n",
            "\u001b[1m16/31\u001b[0m \u001b[32m━━━━━━━━━━\u001b[0m\u001b[37m━━━━━━━━━━\u001b[0m \u001b[1m1s\u001b[0m 87ms/step - loss: 0.0160 - mae: 0.1077"
          ]
        }
      ]
    },
    {
      "cell_type": "code",
      "source": [
        "result = pd.DataFrame(lstm.history.history)\n",
        "result.head()"
      ],
      "metadata": {
        "id": "qgl1meNpdCL0"
      },
      "execution_count": null,
      "outputs": []
    },
    {
      "cell_type": "code",
      "source": [
        "result[['mae', 'val_mae']].plot(title=\"Mean Absolute Error vs Epoch\")"
      ],
      "metadata": {
        "id": "6Xch_DaLdEa4"
      },
      "execution_count": null,
      "outputs": []
    },
    {
      "cell_type": "code",
      "source": [
        "result[['loss','val_loss']].plot(title=\"Loss vs Epoch\")"
      ],
      "metadata": {
        "id": "2jxCTzR0dFy3"
      },
      "execution_count": null,
      "outputs": []
    },
    {
      "cell_type": "markdown",
      "source": [
        "## Evaluation"
      ],
      "metadata": {
        "id": "U2HBBMGBfzfJ"
      }
    },
    {
      "cell_type": "code",
      "source": [
        "from pandas.tseries.offsets import BDay\n",
        "\n",
        "# Number of time steps your model expects (e.g., 20)\n",
        "n_steps = 20\n",
        "\n",
        "# Define prediction start date (must be inside your df date range)\n",
        "predict_start = pd.Timestamp('2021-10-25')\n",
        "\n",
        "# Calculate prediction end date as 9 business days after predict_start\n",
        "predict_end = predict_start + BDay(9)  # 10 business days total including start\n",
        "\n",
        "# Get the next 10 business days (dates) from predict_start in your df index\n",
        "predict_dates = df.loc[predict_start:].index[:10]\n",
        "\n",
        "# Extract true values for those prediction dates\n",
        "true_values = df.loc[predict_dates].values\n",
        "\n",
        "# Input window starts n_steps business days before predict_start\n",
        "input_start = predict_start - BDay(n_steps)\n",
        "\n",
        "# Select input window data (20 business days before predict_start)\n",
        "input_window = df.loc[input_start : predict_start - BDay(1)].values\n",
        "\n",
        "# Scale the input window using your fitted scaler\n",
        "input_scaled = scaler.transform(input_window)\n",
        "\n",
        "# Reshape for model input: (batch=1, time_steps=n_steps, features=5)\n",
        "input_seq = input_scaled[np.newaxis, :, :]\n",
        "\n",
        "# Confirm shapes and dates\n",
        "print(f\"Input window shape: {input_seq.shape}\")      # Expect (1, 20, 5)\n",
        "print(f\"True values shape: {true_values.shape}\")     # Expect (10, 5)\n",
        "print(f\"Prediction dates:\\n{predict_dates}\")"
      ],
      "metadata": {
        "id": "d8tfnEXQf1TF"
      },
      "execution_count": null,
      "outputs": []
    },
    {
      "cell_type": "code",
      "source": [
        "predictions_scaled = []\n",
        "model = simple\n",
        "\n",
        "for day in range(10):\n",
        "  pred_scaled = model.predict(input_seq)\n",
        "  print(f\"Day {day} - pred_scaled shape: {pred_scaled.shape}\")  # Should be (1, 5)\n",
        "  predictions_scaled.append(pred_scaled[0])\n",
        "  input_seq = np.concatenate([input_seq[:, 1:, :], pred_scaled[:, np.newaxis, :]], axis=1)\n",
        "  print(f\"Day {day} - input_seq shape after update: {input_seq.shape}\")  # Should be (1, 20, 5)"
      ],
      "metadata": {
        "id": "_YHcD09sgHFh"
      },
      "execution_count": null,
      "outputs": []
    },
    {
      "cell_type": "code",
      "source": [
        "# Predict all 5 columns for the 10 business days between 11/08/2021 and 11/19/2021.\n",
        "print(\"DataFrame date range:\", df.index.min(), \"to\", df.index.max())\n",
        "print(\"predict_start:\", predict_start)\n",
        "print(\"predict_end:\", predict_end)"
      ],
      "metadata": {
        "id": "LzshTbIQh6CZ"
      },
      "execution_count": null,
      "outputs": []
    },
    {
      "cell_type": "code",
      "source": [
        "print(predict_start in df.index)\n",
        "print(predict_end in df.index)"
      ],
      "metadata": {
        "id": "JzuQKmlBh8ik"
      },
      "execution_count": null,
      "outputs": []
    },
    {
      "cell_type": "code",
      "source": [
        "predictions_scaled = np.array(predictions_scaled)  # shape (num_days, 5)\n",
        "predictions = scaler.inverse_transform(predictions_scaled)\n",
        "\n",
        "print(\"true_values shape:\", true_values.shape)\n",
        "print(\"predictions shape:\", predictions.shape)"
      ],
      "metadata": {
        "id": "9vW7vJbXgSdY"
      },
      "execution_count": null,
      "outputs": []
    },
    {
      "cell_type": "code",
      "source": [
        "from sklearn.metrics import mean_squared_error, mean_absolute_error\n",
        "import matplotlib.pyplot as plt\n",
        "\n",
        "feature_names = df.columns.tolist()\n",
        "dates = df.loc[predict_start : predict_end].index\n",
        "\n",
        "for i, feature in enumerate(feature_names):\n",
        "    mse = mean_squared_error(true_values[:, i], predictions[:, i])\n",
        "    mae = mean_absolute_error(true_values[:, i], predictions[:, i])\n",
        "    print(f\"{feature}: MSE={mse:.4f}, MAE={mae:.4f}\")\n",
        "\n",
        "plt.figure(figsize=(15, 10))\n",
        "\n",
        "for i, feature in enumerate(feature_names):\n",
        "    plt.subplot(3, 2, i+1)\n",
        "    plt.plot(dates, true_values[:, i], label='True', marker='o')\n",
        "    plt.plot(dates, predictions[:, i], label='Predicted', marker='x')\n",
        "    plt.title(f\"{feature}: True vs Predicted\")\n",
        "    plt.xlabel(\"Date\")\n",
        "    plt.ylabel(feature)\n",
        "    plt.legend()\n",
        "\n",
        "plt.tight_layout()\n",
        "plt.show()"
      ],
      "metadata": {
        "id": "X4QdXTt3ggVJ"
      },
      "execution_count": null,
      "outputs": []
    }
  ]
}